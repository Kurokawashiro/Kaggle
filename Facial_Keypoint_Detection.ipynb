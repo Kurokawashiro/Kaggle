{
 "cells": [
  {
   "cell_type": "code",
   "execution_count": 1,
   "metadata": {},
   "outputs": [
    {
     "data": {
      "text/plain": [
       "'/Users/p.scott'"
      ]
     },
     "execution_count": 1,
     "metadata": {},
     "output_type": "execute_result"
    }
   ],
   "source": [
    "pwd"
   ]
  },
  {
   "cell_type": "code",
   "execution_count": 3,
   "metadata": {},
   "outputs": [
    {
     "name": "stdout",
     "output_type": "stream",
     "text": [
      "/Users/p.scott/Downloads\n"
     ]
    }
   ],
   "source": [
    "cd Downloads/"
   ]
  },
  {
   "cell_type": "code",
   "execution_count": 4,
   "metadata": {},
   "outputs": [
    {
     "name": "stdout",
     "output_type": "stream",
     "text": [
      "0.html\r\n",
      "00. Statement form-en.pdf\r\n",
      "1*2HNwhDLDbOPZnEsTaJz4hQ.gif\r\n",
      "1*HNxu1IWBmFh0vkUzdzVysA.gif\r\n",
      "10.1007%2F978-3-030-33792-6_40.bib\r\n",
      "10.1007%2Fs13218-016-0444-x.ris\r\n",
      "15303-68248-1-PB.pdf\r\n",
      "17193-77380-1-PB.pdf\r\n",
      "17560-75893-1-PB.pdf\r\n",
      "1812.11794_v2.pdf\r\n",
      "\u001b[34m20200408\u001b[m\u001b[m/\r\n",
      "202004241527062084.pdf\r\n",
      "2020NLP01.pdf\r\n",
      "2020NLP02.pdf\r\n",
      "2020NLP03_1.pdf\r\n",
      "2020NLP03_2.pdf\r\n",
      "2020NLP05_1.pdf\r\n",
      "2020NLP05_2.pdf\r\n",
      "AB_Compare.png\r\n",
      "AM.png\r\n",
      "\u001b[34mBDD-X-Dataset\u001b[m\u001b[m/\r\n",
      "BDD-X-Organize-Annotations_v1.csv\r\n",
      "ChartMaker2.ipynb\r\n",
      "CuriosityDQN.pdf\r\n",
      "DQNData-seed=123.csv\r\n",
      "DQNData-seed=666.csv\r\n",
      "\u001b[34mDQN_3d_Time_2020-03-26_13_36\u001b[m\u001b[m/\r\n",
      "Drawed Env.png\r\n",
      "HireVueLivePlugin-3.0.0.2.dmg\r\n",
      "Kap-3.0.0.dmg\r\n",
      "Lecture-notes.pdf\r\n",
      "Mendeley-Desktop-1.19.4-OSX-Universal.dmg\r\n",
      "Network.png\r\n",
      "OpenES_20200418-2.pdf\r\n",
      "OpenES_20200418.pdf\r\n",
      "PLusingHA.pdf\r\n",
      "PRIMA2020 paper ver0.2 reading.stop revising.pdf\r\n",
      "PRIMA2020 ver0.1.pdf\r\n",
      "PRIMA2020paper(ver0.3.1).pdf\r\n",
      "\u001b[34mPRIMA2020paper(ver0.3.3)\u001b[m\u001b[m/\r\n",
      "Pathak_Curiosity-Driven_Exploration_by_CVPR_2017_paper-3.pdf\r\n",
      "Pattern-2.png\r\n",
      "Pattern.png\r\n",
      "Project Proposal.doc\r\n",
      "Real-Time_Vehicle_Motion_Detection_and_Motion_Alte.pdf\r\n",
      "S0921889014001328.bib\r\n",
      "\u001b[34mSpringer%20Lecture%20Notes%20in%20Computer%20Science\u001b[m\u001b[m/\r\n",
      "Summary.pdf\r\n",
      "Task Structure.png\r\n",
      "Task Structure1.png\r\n",
      "TraingStructure.png\r\n",
      "Untitled Diagram.png\r\n",
      "VAE for missing data imputation.pdf\r\n",
      "VR report.pdf\r\n",
      "Variational Autoencoders for Missing Data Imputation with Application.pdf\r\n",
      "View_Compare-2.png\r\n",
      "View_Compare.png\r\n",
      "VisualizeBDDX.ipynb\r\n",
      "Webex.pkg\r\n",
      "Web面接実施要領.pdf\r\n",
      "Zoom-2.pkg\r\n",
      "Zoom.pkg\r\n",
      "Zotero-5.0.87.dmg\r\n",
      "address.dms\r\n",
      "ads.png\r\n",
      "advisor module.png\r\n",
      "analyze_sensor.png\r\n",
      "and_back.rtf\r\n",
      "\u001b[34mbdd100k\u001b[m\u001b[m/\r\n",
      "bdd100k_info.zip\r\n",
      "\u001b[34mbootstrap-4\u001b[m\u001b[m/\r\n",
      "\u001b[34mcartripsdatamining\u001b[m\u001b[m/\r\n",
      "cliffwalking.pdf\r\n",
      "\u001b[34mconsulter_weights\u001b[m\u001b[m/\r\n",
      "course_result.jpg\r\n",
      "cv2_sample.ipynb\r\n",
      "data.dms\r\n",
      "data.log\r\n",
      "\u001b[34mdigit-recognizer\u001b[m\u001b[m/\r\n",
      "download.pdf\r\n",
      "\u001b[34mfacial-keypoints-detection\u001b[m\u001b[m/\r\n",
      "featurevector.jpg\r\n",
      "\u001b[34mforecasting_sample\u001b[m\u001b[m/\r\n",
      "forecasting_sample_v1.1.tar\r\n",
      "giphy.gif\r\n",
      "icml17.pdf\r\n",
      "ilp08.pdf\r\n",
      "\u001b[34mlayer-v3.1.1\u001b[m\u001b[m/\r\n",
      "legend.py\r\n",
      "\u001b[34mlevin-vehicle-telematics\u001b[m\u001b[m/\r\n",
      "main.tex~\r\n",
      "meeting-155489124.ics\r\n",
      "obj%2Fw5zCg8OCw6fCn2vDicOl%2F680685466%2F242a%2F20191112165731%2FNeteaseMusic_2.3.2_832_web.dmg\r\n",
      "origin_201911071926353194.jpg\r\n",
      "\u001b[34mprintTextFile\u001b[m\u001b[m/\r\n",
      "\u001b[34msample_small\u001b[m\u001b[m/\r\n",
      "sample_small.tar\r\n",
      "scores.jpg\r\n",
      "sensors-17-00633-v2.pdf\r\n",
      "sensors-18-00292-v4.pdf\r\n",
      "sensors-18-03650-v2.pdf\r\n",
      "sensors-19-04108.pdf\r\n",
      "sensors-20-00839-v2.pdf\r\n",
      "simulation_data.csv\r\n",
      "symmetry-11-01066.pdf\r\n",
      "\u001b[34mtest_3d_Time_2020-04-02_23_28\u001b[m\u001b[m/\r\n",
      "torchvision_finetuning_instance_segmentation.ipynb\r\n",
      "vae_plot.jpg\r\n",
      "value.docx\r\n",
      "waseda0618.pdf\r\n",
      "ポテンシャル採用Test_練習問題イメージ.pdf\r\n",
      "ヤマえもんより.docx\r\n",
      "履歴書（PENG JIAHAO）.pdf\r\n",
      "課題レノボ（ホウ　カゴウ）.pdf\r\n"
     ]
    }
   ],
   "source": [
    "ls"
   ]
  },
  {
   "cell_type": "code",
   "execution_count": 5,
   "metadata": {},
   "outputs": [
    {
     "name": "stdout",
     "output_type": "stream",
     "text": [
      "/Users/p.scott/Downloads/facial-keypoints-detection\n"
     ]
    }
   ],
   "source": [
    "cd facial-keypoints-detection/"
   ]
  },
  {
   "cell_type": "code",
   "execution_count": 6,
   "metadata": {},
   "outputs": [
    {
     "name": "stdout",
     "output_type": "stream",
     "text": [
      "IdLookupTable.csv     test.zip\r\n",
      "SampleSubmission.csv  training.zip\r\n"
     ]
    }
   ],
   "source": [
    "ls"
   ]
  },
  {
   "cell_type": "code",
   "execution_count": 7,
   "metadata": {},
   "outputs": [],
   "source": [
    "import pandas as pd\n",
    "import numpy as np"
   ]
  },
  {
   "cell_type": "code",
   "execution_count": 8,
   "metadata": {},
   "outputs": [],
   "source": [
    "id_table = pd.read_csv('./IdLookupTable.csv')"
   ]
  },
  {
   "cell_type": "code",
   "execution_count": 22,
   "metadata": {},
   "outputs": [
    {
     "data": {
      "text/plain": [
       "{'left_eye_center_x',\n",
       " 'left_eye_center_y',\n",
       " 'left_eye_inner_corner_x',\n",
       " 'left_eye_inner_corner_y',\n",
       " 'left_eye_outer_corner_x',\n",
       " 'left_eye_outer_corner_y',\n",
       " 'left_eyebrow_inner_end_x',\n",
       " 'left_eyebrow_inner_end_y',\n",
       " 'left_eyebrow_outer_end_x',\n",
       " 'left_eyebrow_outer_end_y',\n",
       " 'mouth_center_bottom_lip_x',\n",
       " 'mouth_center_bottom_lip_y',\n",
       " 'mouth_center_top_lip_x',\n",
       " 'mouth_center_top_lip_y',\n",
       " 'mouth_left_corner_x',\n",
       " 'mouth_left_corner_y',\n",
       " 'mouth_right_corner_x',\n",
       " 'mouth_right_corner_y',\n",
       " 'nose_tip_x',\n",
       " 'nose_tip_y',\n",
       " 'right_eye_center_x',\n",
       " 'right_eye_center_y',\n",
       " 'right_eye_inner_corner_x',\n",
       " 'right_eye_inner_corner_y',\n",
       " 'right_eye_outer_corner_x',\n",
       " 'right_eye_outer_corner_y',\n",
       " 'right_eyebrow_inner_end_x',\n",
       " 'right_eyebrow_inner_end_y',\n",
       " 'right_eyebrow_outer_end_x',\n",
       " 'right_eyebrow_outer_end_y'}"
      ]
     },
     "execution_count": 22,
     "metadata": {},
     "output_type": "execute_result"
    }
   ],
   "source": [
    "set(id_table.FeatureName)"
   ]
  },
  {
   "cell_type": "code",
   "execution_count": 15,
   "metadata": {},
   "outputs": [],
   "source": [
    "sample_data = pd.read_csv('./SampleSubmission.csv')"
   ]
  },
  {
   "cell_type": "code",
   "execution_count": 16,
   "metadata": {},
   "outputs": [
    {
     "data": {
      "text/html": [
       "<div>\n",
       "<style scoped>\n",
       "    .dataframe tbody tr th:only-of-type {\n",
       "        vertical-align: middle;\n",
       "    }\n",
       "\n",
       "    .dataframe tbody tr th {\n",
       "        vertical-align: top;\n",
       "    }\n",
       "\n",
       "    .dataframe thead th {\n",
       "        text-align: right;\n",
       "    }\n",
       "</style>\n",
       "<table border=\"1\" class=\"dataframe\">\n",
       "  <thead>\n",
       "    <tr style=\"text-align: right;\">\n",
       "      <th></th>\n",
       "      <th>RowId</th>\n",
       "      <th>Location</th>\n",
       "    </tr>\n",
       "  </thead>\n",
       "  <tbody>\n",
       "    <tr>\n",
       "      <th>0</th>\n",
       "      <td>1</td>\n",
       "      <td>0</td>\n",
       "    </tr>\n",
       "    <tr>\n",
       "      <th>1</th>\n",
       "      <td>2</td>\n",
       "      <td>0</td>\n",
       "    </tr>\n",
       "    <tr>\n",
       "      <th>2</th>\n",
       "      <td>3</td>\n",
       "      <td>0</td>\n",
       "    </tr>\n",
       "    <tr>\n",
       "      <th>3</th>\n",
       "      <td>4</td>\n",
       "      <td>0</td>\n",
       "    </tr>\n",
       "    <tr>\n",
       "      <th>4</th>\n",
       "      <td>5</td>\n",
       "      <td>0</td>\n",
       "    </tr>\n",
       "    <tr>\n",
       "      <th>...</th>\n",
       "      <td>...</td>\n",
       "      <td>...</td>\n",
       "    </tr>\n",
       "    <tr>\n",
       "      <th>27119</th>\n",
       "      <td>27120</td>\n",
       "      <td>0</td>\n",
       "    </tr>\n",
       "    <tr>\n",
       "      <th>27120</th>\n",
       "      <td>27121</td>\n",
       "      <td>0</td>\n",
       "    </tr>\n",
       "    <tr>\n",
       "      <th>27121</th>\n",
       "      <td>27122</td>\n",
       "      <td>0</td>\n",
       "    </tr>\n",
       "    <tr>\n",
       "      <th>27122</th>\n",
       "      <td>27123</td>\n",
       "      <td>0</td>\n",
       "    </tr>\n",
       "    <tr>\n",
       "      <th>27123</th>\n",
       "      <td>27124</td>\n",
       "      <td>0</td>\n",
       "    </tr>\n",
       "  </tbody>\n",
       "</table>\n",
       "<p>27124 rows × 2 columns</p>\n",
       "</div>"
      ],
      "text/plain": [
       "       RowId  Location\n",
       "0          1         0\n",
       "1          2         0\n",
       "2          3         0\n",
       "3          4         0\n",
       "4          5         0\n",
       "...      ...       ...\n",
       "27119  27120         0\n",
       "27120  27121         0\n",
       "27121  27122         0\n",
       "27122  27123         0\n",
       "27123  27124         0\n",
       "\n",
       "[27124 rows x 2 columns]"
      ]
     },
     "execution_count": 16,
     "metadata": {},
     "output_type": "execute_result"
    }
   ],
   "source": [
    "sample_data"
   ]
  },
  {
   "cell_type": "code",
   "execution_count": 17,
   "metadata": {},
   "outputs": [],
   "source": [
    "test_data = pd.read_csv('./test.csv')\n",
    "train_data = pd.read_csv('./training.csv')"
   ]
  },
  {
   "cell_type": "code",
   "execution_count": 20,
   "metadata": {},
   "outputs": [
    {
     "data": {
      "text/html": [
       "<div>\n",
       "<style scoped>\n",
       "    .dataframe tbody tr th:only-of-type {\n",
       "        vertical-align: middle;\n",
       "    }\n",
       "\n",
       "    .dataframe tbody tr th {\n",
       "        vertical-align: top;\n",
       "    }\n",
       "\n",
       "    .dataframe thead th {\n",
       "        text-align: right;\n",
       "    }\n",
       "</style>\n",
       "<table border=\"1\" class=\"dataframe\">\n",
       "  <thead>\n",
       "    <tr style=\"text-align: right;\">\n",
       "      <th></th>\n",
       "      <th>ImageId</th>\n",
       "      <th>Image</th>\n",
       "    </tr>\n",
       "  </thead>\n",
       "  <tbody>\n",
       "    <tr>\n",
       "      <th>0</th>\n",
       "      <td>1</td>\n",
       "      <td>182 183 182 182 180 180 176 169 156 137 124 10...</td>\n",
       "    </tr>\n",
       "    <tr>\n",
       "      <th>1</th>\n",
       "      <td>2</td>\n",
       "      <td>76 87 81 72 65 59 64 76 69 42 31 38 49 58 58 4...</td>\n",
       "    </tr>\n",
       "    <tr>\n",
       "      <th>2</th>\n",
       "      <td>3</td>\n",
       "      <td>177 176 174 170 169 169 168 166 166 166 161 14...</td>\n",
       "    </tr>\n",
       "    <tr>\n",
       "      <th>3</th>\n",
       "      <td>4</td>\n",
       "      <td>176 174 174 175 174 174 176 176 175 171 165 15...</td>\n",
       "    </tr>\n",
       "    <tr>\n",
       "      <th>4</th>\n",
       "      <td>5</td>\n",
       "      <td>50 47 44 101 144 149 120 58 48 42 35 35 37 39 ...</td>\n",
       "    </tr>\n",
       "    <tr>\n",
       "      <th>...</th>\n",
       "      <td>...</td>\n",
       "      <td>...</td>\n",
       "    </tr>\n",
       "    <tr>\n",
       "      <th>1778</th>\n",
       "      <td>1779</td>\n",
       "      <td>101 101 101 100 100 97 97 98 102 149 214 206 1...</td>\n",
       "    </tr>\n",
       "    <tr>\n",
       "      <th>1779</th>\n",
       "      <td>1780</td>\n",
       "      <td>201 191 171 158 145 140 136 130 123 115 108 10...</td>\n",
       "    </tr>\n",
       "    <tr>\n",
       "      <th>1780</th>\n",
       "      <td>1781</td>\n",
       "      <td>28 28 29 30 31 32 33 34 39 44 46 46 49 54 61 7...</td>\n",
       "    </tr>\n",
       "    <tr>\n",
       "      <th>1781</th>\n",
       "      <td>1782</td>\n",
       "      <td>104 95 71 57 46 52 65 70 70 67 76 72 69 69 72 ...</td>\n",
       "    </tr>\n",
       "    <tr>\n",
       "      <th>1782</th>\n",
       "      <td>1783</td>\n",
       "      <td>63 61 64 66 66 64 65 70 69 70 77 83 63 34 22 2...</td>\n",
       "    </tr>\n",
       "  </tbody>\n",
       "</table>\n",
       "<p>1783 rows × 2 columns</p>\n",
       "</div>"
      ],
      "text/plain": [
       "      ImageId                                              Image\n",
       "0           1  182 183 182 182 180 180 176 169 156 137 124 10...\n",
       "1           2  76 87 81 72 65 59 64 76 69 42 31 38 49 58 58 4...\n",
       "2           3  177 176 174 170 169 169 168 166 166 166 161 14...\n",
       "3           4  176 174 174 175 174 174 176 176 175 171 165 15...\n",
       "4           5  50 47 44 101 144 149 120 58 48 42 35 35 37 39 ...\n",
       "...       ...                                                ...\n",
       "1778     1779  101 101 101 100 100 97 97 98 102 149 214 206 1...\n",
       "1779     1780  201 191 171 158 145 140 136 130 123 115 108 10...\n",
       "1780     1781  28 28 29 30 31 32 33 34 39 44 46 46 49 54 61 7...\n",
       "1781     1782  104 95 71 57 46 52 65 70 70 67 76 72 69 69 72 ...\n",
       "1782     1783  63 61 64 66 66 64 65 70 69 70 77 83 63 34 22 2...\n",
       "\n",
       "[1783 rows x 2 columns]"
      ]
     },
     "execution_count": 20,
     "metadata": {},
     "output_type": "execute_result"
    }
   ],
   "source": [
    "test_data"
   ]
  },
  {
   "cell_type": "code",
   "execution_count": 19,
   "metadata": {},
   "outputs": [
    {
     "data": {
      "text/plain": [
       "Index(['left_eye_center_x', 'left_eye_center_y', 'right_eye_center_x',\n",
       "       'right_eye_center_y', 'left_eye_inner_corner_x',\n",
       "       'left_eye_inner_corner_y', 'left_eye_outer_corner_x',\n",
       "       'left_eye_outer_corner_y', 'right_eye_inner_corner_x',\n",
       "       'right_eye_inner_corner_y', 'right_eye_outer_corner_x',\n",
       "       'right_eye_outer_corner_y', 'left_eyebrow_inner_end_x',\n",
       "       'left_eyebrow_inner_end_y', 'left_eyebrow_outer_end_x',\n",
       "       'left_eyebrow_outer_end_y', 'right_eyebrow_inner_end_x',\n",
       "       'right_eyebrow_inner_end_y', 'right_eyebrow_outer_end_x',\n",
       "       'right_eyebrow_outer_end_y', 'nose_tip_x', 'nose_tip_y',\n",
       "       'mouth_left_corner_x', 'mouth_left_corner_y', 'mouth_right_corner_x',\n",
       "       'mouth_right_corner_y', 'mouth_center_top_lip_x',\n",
       "       'mouth_center_top_lip_y', 'mouth_center_bottom_lip_x',\n",
       "       'mouth_center_bottom_lip_y', 'Image'],\n",
       "      dtype='object')"
      ]
     },
     "execution_count": 19,
     "metadata": {},
     "output_type": "execute_result"
    }
   ],
   "source": [
    "train_data.columns"
   ]
  },
  {
   "cell_type": "code",
   "execution_count": 23,
   "metadata": {},
   "outputs": [
    {
     "data": {
      "text/html": [
       "<div>\n",
       "<style scoped>\n",
       "    .dataframe tbody tr th:only-of-type {\n",
       "        vertical-align: middle;\n",
       "    }\n",
       "\n",
       "    .dataframe tbody tr th {\n",
       "        vertical-align: top;\n",
       "    }\n",
       "\n",
       "    .dataframe thead th {\n",
       "        text-align: right;\n",
       "    }\n",
       "</style>\n",
       "<table border=\"1\" class=\"dataframe\">\n",
       "  <thead>\n",
       "    <tr style=\"text-align: right;\">\n",
       "      <th></th>\n",
       "      <th>left_eye_center_x</th>\n",
       "      <th>left_eye_center_y</th>\n",
       "      <th>right_eye_center_x</th>\n",
       "      <th>right_eye_center_y</th>\n",
       "      <th>left_eye_inner_corner_x</th>\n",
       "      <th>left_eye_inner_corner_y</th>\n",
       "      <th>left_eye_outer_corner_x</th>\n",
       "      <th>left_eye_outer_corner_y</th>\n",
       "      <th>right_eye_inner_corner_x</th>\n",
       "      <th>right_eye_inner_corner_y</th>\n",
       "      <th>...</th>\n",
       "      <th>nose_tip_y</th>\n",
       "      <th>mouth_left_corner_x</th>\n",
       "      <th>mouth_left_corner_y</th>\n",
       "      <th>mouth_right_corner_x</th>\n",
       "      <th>mouth_right_corner_y</th>\n",
       "      <th>mouth_center_top_lip_x</th>\n",
       "      <th>mouth_center_top_lip_y</th>\n",
       "      <th>mouth_center_bottom_lip_x</th>\n",
       "      <th>mouth_center_bottom_lip_y</th>\n",
       "      <th>Image</th>\n",
       "    </tr>\n",
       "  </thead>\n",
       "  <tbody>\n",
       "    <tr>\n",
       "      <th>0</th>\n",
       "      <td>66.033564</td>\n",
       "      <td>39.002274</td>\n",
       "      <td>30.227008</td>\n",
       "      <td>36.421678</td>\n",
       "      <td>59.582075</td>\n",
       "      <td>39.647423</td>\n",
       "      <td>73.130346</td>\n",
       "      <td>39.969997</td>\n",
       "      <td>36.356571</td>\n",
       "      <td>37.389402</td>\n",
       "      <td>...</td>\n",
       "      <td>57.066803</td>\n",
       "      <td>61.195308</td>\n",
       "      <td>79.970165</td>\n",
       "      <td>28.614496</td>\n",
       "      <td>77.388992</td>\n",
       "      <td>43.312602</td>\n",
       "      <td>72.935459</td>\n",
       "      <td>43.130707</td>\n",
       "      <td>84.485774</td>\n",
       "      <td>238 236 237 238 240 240 239 241 241 243 240 23...</td>\n",
       "    </tr>\n",
       "    <tr>\n",
       "      <th>1</th>\n",
       "      <td>64.332936</td>\n",
       "      <td>34.970077</td>\n",
       "      <td>29.949277</td>\n",
       "      <td>33.448715</td>\n",
       "      <td>58.856170</td>\n",
       "      <td>35.274349</td>\n",
       "      <td>70.722723</td>\n",
       "      <td>36.187166</td>\n",
       "      <td>36.034723</td>\n",
       "      <td>34.361532</td>\n",
       "      <td>...</td>\n",
       "      <td>55.660936</td>\n",
       "      <td>56.421447</td>\n",
       "      <td>76.352000</td>\n",
       "      <td>35.122383</td>\n",
       "      <td>76.047660</td>\n",
       "      <td>46.684596</td>\n",
       "      <td>70.266553</td>\n",
       "      <td>45.467915</td>\n",
       "      <td>85.480170</td>\n",
       "      <td>219 215 204 196 204 211 212 200 180 168 178 19...</td>\n",
       "    </tr>\n",
       "    <tr>\n",
       "      <th>2</th>\n",
       "      <td>65.057053</td>\n",
       "      <td>34.909642</td>\n",
       "      <td>30.903789</td>\n",
       "      <td>34.909642</td>\n",
       "      <td>59.412000</td>\n",
       "      <td>36.320968</td>\n",
       "      <td>70.984421</td>\n",
       "      <td>36.320968</td>\n",
       "      <td>37.678105</td>\n",
       "      <td>36.320968</td>\n",
       "      <td>...</td>\n",
       "      <td>53.538947</td>\n",
       "      <td>60.822947</td>\n",
       "      <td>73.014316</td>\n",
       "      <td>33.726316</td>\n",
       "      <td>72.732000</td>\n",
       "      <td>47.274947</td>\n",
       "      <td>70.191789</td>\n",
       "      <td>47.274947</td>\n",
       "      <td>78.659368</td>\n",
       "      <td>144 142 159 180 188 188 184 180 167 132 84 59 ...</td>\n",
       "    </tr>\n",
       "    <tr>\n",
       "      <th>3</th>\n",
       "      <td>65.225739</td>\n",
       "      <td>37.261774</td>\n",
       "      <td>32.023096</td>\n",
       "      <td>37.261774</td>\n",
       "      <td>60.003339</td>\n",
       "      <td>39.127179</td>\n",
       "      <td>72.314713</td>\n",
       "      <td>38.380967</td>\n",
       "      <td>37.618643</td>\n",
       "      <td>38.754115</td>\n",
       "      <td>...</td>\n",
       "      <td>54.166539</td>\n",
       "      <td>65.598887</td>\n",
       "      <td>72.703722</td>\n",
       "      <td>37.245496</td>\n",
       "      <td>74.195478</td>\n",
       "      <td>50.303165</td>\n",
       "      <td>70.091687</td>\n",
       "      <td>51.561183</td>\n",
       "      <td>78.268383</td>\n",
       "      <td>193 192 193 194 194 194 193 192 168 111 50 12 ...</td>\n",
       "    </tr>\n",
       "    <tr>\n",
       "      <th>4</th>\n",
       "      <td>66.725301</td>\n",
       "      <td>39.621261</td>\n",
       "      <td>32.244810</td>\n",
       "      <td>38.042032</td>\n",
       "      <td>58.565890</td>\n",
       "      <td>39.621261</td>\n",
       "      <td>72.515926</td>\n",
       "      <td>39.884466</td>\n",
       "      <td>36.982380</td>\n",
       "      <td>39.094852</td>\n",
       "      <td>...</td>\n",
       "      <td>64.889521</td>\n",
       "      <td>60.671411</td>\n",
       "      <td>77.523239</td>\n",
       "      <td>31.191755</td>\n",
       "      <td>76.997301</td>\n",
       "      <td>44.962748</td>\n",
       "      <td>73.707387</td>\n",
       "      <td>44.227141</td>\n",
       "      <td>86.871166</td>\n",
       "      <td>147 148 160 196 215 214 216 217 219 220 206 18...</td>\n",
       "    </tr>\n",
       "  </tbody>\n",
       "</table>\n",
       "<p>5 rows × 31 columns</p>\n",
       "</div>"
      ],
      "text/plain": [
       "   left_eye_center_x  left_eye_center_y  right_eye_center_x  \\\n",
       "0          66.033564          39.002274           30.227008   \n",
       "1          64.332936          34.970077           29.949277   \n",
       "2          65.057053          34.909642           30.903789   \n",
       "3          65.225739          37.261774           32.023096   \n",
       "4          66.725301          39.621261           32.244810   \n",
       "\n",
       "   right_eye_center_y  left_eye_inner_corner_x  left_eye_inner_corner_y  \\\n",
       "0           36.421678                59.582075                39.647423   \n",
       "1           33.448715                58.856170                35.274349   \n",
       "2           34.909642                59.412000                36.320968   \n",
       "3           37.261774                60.003339                39.127179   \n",
       "4           38.042032                58.565890                39.621261   \n",
       "\n",
       "   left_eye_outer_corner_x  left_eye_outer_corner_y  right_eye_inner_corner_x  \\\n",
       "0                73.130346                39.969997                 36.356571   \n",
       "1                70.722723                36.187166                 36.034723   \n",
       "2                70.984421                36.320968                 37.678105   \n",
       "3                72.314713                38.380967                 37.618643   \n",
       "4                72.515926                39.884466                 36.982380   \n",
       "\n",
       "   right_eye_inner_corner_y  ...  nose_tip_y  mouth_left_corner_x  \\\n",
       "0                 37.389402  ...   57.066803            61.195308   \n",
       "1                 34.361532  ...   55.660936            56.421447   \n",
       "2                 36.320968  ...   53.538947            60.822947   \n",
       "3                 38.754115  ...   54.166539            65.598887   \n",
       "4                 39.094852  ...   64.889521            60.671411   \n",
       "\n",
       "   mouth_left_corner_y  mouth_right_corner_x  mouth_right_corner_y  \\\n",
       "0            79.970165             28.614496             77.388992   \n",
       "1            76.352000             35.122383             76.047660   \n",
       "2            73.014316             33.726316             72.732000   \n",
       "3            72.703722             37.245496             74.195478   \n",
       "4            77.523239             31.191755             76.997301   \n",
       "\n",
       "   mouth_center_top_lip_x  mouth_center_top_lip_y  mouth_center_bottom_lip_x  \\\n",
       "0               43.312602               72.935459                  43.130707   \n",
       "1               46.684596               70.266553                  45.467915   \n",
       "2               47.274947               70.191789                  47.274947   \n",
       "3               50.303165               70.091687                  51.561183   \n",
       "4               44.962748               73.707387                  44.227141   \n",
       "\n",
       "   mouth_center_bottom_lip_y  \\\n",
       "0                  84.485774   \n",
       "1                  85.480170   \n",
       "2                  78.659368   \n",
       "3                  78.268383   \n",
       "4                  86.871166   \n",
       "\n",
       "                                               Image  \n",
       "0  238 236 237 238 240 240 239 241 241 243 240 23...  \n",
       "1  219 215 204 196 204 211 212 200 180 168 178 19...  \n",
       "2  144 142 159 180 188 188 184 180 167 132 84 59 ...  \n",
       "3  193 192 193 194 194 194 193 192 168 111 50 12 ...  \n",
       "4  147 148 160 196 215 214 216 217 219 220 206 18...  \n",
       "\n",
       "[5 rows x 31 columns]"
      ]
     },
     "execution_count": 23,
     "metadata": {},
     "output_type": "execute_result"
    }
   ],
   "source": [
    "train_data.head()"
   ]
  },
  {
   "cell_type": "code",
   "execution_count": 30,
   "metadata": {},
   "outputs": [
    {
     "data": {
      "text/plain": [
       "True     28\n",
       "False     3\n",
       "dtype: int64"
      ]
     },
     "execution_count": 30,
     "metadata": {},
     "output_type": "execute_result"
    }
   ],
   "source": [
    "train_data.isnull().any().value_counts()"
   ]
  },
  {
   "cell_type": "code",
   "execution_count": 31,
   "metadata": {},
   "outputs": [],
   "source": [
    "train_data.fillna(method='ffill',inplace = True)"
   ]
  },
  {
   "cell_type": "code",
   "execution_count": 32,
   "metadata": {},
   "outputs": [
    {
     "data": {
      "text/plain": [
       "False    31\n",
       "dtype: int64"
      ]
     },
     "execution_count": 32,
     "metadata": {},
     "output_type": "execute_result"
    }
   ],
   "source": [
    "train_data.isnull().any().value_counts()"
   ]
  },
  {
   "cell_type": "code",
   "execution_count": 37,
   "metadata": {},
   "outputs": [],
   "source": [
    "img_list = []\n",
    "for i in range(len(train_data)):\n",
    "    img = train_data.Image.iloc[i].split(' ')\n",
    "    img = ['0' if x=='' else x for x in img]\n",
    "    img_list.append(img)\n",
    "image_list = np.array(img_list,dtype='float')"
   ]
  },
  {
   "cell_type": "code",
   "execution_count": 38,
   "metadata": {},
   "outputs": [
    {
     "data": {
      "text/plain": [
       "(7049, 9216)"
      ]
     },
     "execution_count": 38,
     "metadata": {},
     "output_type": "execute_result"
    }
   ],
   "source": [
    "image_list.shape"
   ]
  },
  {
   "cell_type": "code",
   "execution_count": 40,
   "metadata": {},
   "outputs": [
    {
     "data": {
      "text/plain": [
       "96.0"
      ]
     },
     "execution_count": 40,
     "metadata": {},
     "output_type": "execute_result"
    }
   ],
   "source": [
    "import math\n",
    "math.sqrt(9216)"
   ]
  },
  {
   "cell_type": "code",
   "execution_count": 43,
   "metadata": {},
   "outputs": [],
   "source": [
    "image_list = image_list.reshape(7049,96,96,1)"
   ]
  },
  {
   "cell_type": "code",
   "execution_count": 44,
   "metadata": {},
   "outputs": [
    {
     "data": {
      "text/plain": [
       "(7049, 96, 96, 1)"
      ]
     },
     "execution_count": 44,
     "metadata": {},
     "output_type": "execute_result"
    }
   ],
   "source": [
    "image_list.shape"
   ]
  },
  {
   "cell_type": "code",
   "execution_count": 45,
   "metadata": {},
   "outputs": [],
   "source": [
    "import matplotlib.pyplot as plt"
   ]
  },
  {
   "cell_type": "code",
   "execution_count": 48,
   "metadata": {},
   "outputs": [
    {
     "data": {
      "text/plain": [
       "(96, 96, 1)"
      ]
     },
     "execution_count": 48,
     "metadata": {},
     "output_type": "execute_result"
    }
   ],
   "source": [
    "image_list[5].shape"
   ]
  },
  {
   "cell_type": "code",
   "execution_count": 50,
   "metadata": {},
   "outputs": [
    {
     "data": {
      "text/plain": [
       "<matplotlib.image.AxesImage at 0x7fd6c860de80>"
      ]
     },
     "execution_count": 50,
     "metadata": {},
     "output_type": "execute_result"
    },
    {
     "data": {
      "image/png": "[encoded data removed]",
      "text/plain": [
       "<Figure size 432x288 with 1 Axes>"
      ]
     },
     "metadata": {
      "needs_background": "light"
     },
     "output_type": "display_data"
    }
   ],
   "source": [
    "plt.imshow(image_list[5].reshape(96,96),cmap='gray')"
   ]
  },
  {
   "cell_type": "code",
   "execution_count": 61,
   "metadata": {},
   "outputs": [
    {
     "data": {
      "text/plain": [
       "array([66.03356391, 39.00227368, 30.22700752, 36.4216782 , 59.58207519,\n",
       "       39.64742256, 73.13034586, 39.96999699, 36.35657143, 37.3894015 ,\n",
       "       23.45287218, 37.3894015 , 56.95326316, 29.03364812, 80.22712782,\n",
       "       32.22813835, 40.22760902, 29.0023218 , 16.35637895, 29.64747068,\n",
       "       44.42057143, 57.06680301, 61.19530827, 79.97016541, 28.61449624,\n",
       "       77.38899248, 43.3126015 , 72.93545865, 43.13070677, 84.48577444])"
      ]
     },
     "execution_count": 61,
     "metadata": {},
     "output_type": "execute_result"
    }
   ],
   "source": [
    "train_data[train_data.columns[:-1]].values[0]"
   ]
  },
  {
   "cell_type": "code",
   "execution_count": 64,
   "metadata": {},
   "outputs": [],
   "source": [
    "y = np.array(train_data[train_data.columns[:-1]].values,dtype='float')"
   ]
  },
  {
   "cell_type": "code",
   "execution_count": 65,
   "metadata": {},
   "outputs": [
    {
     "data": {
      "text/plain": [
       "(7049, 30)"
      ]
     },
     "execution_count": 65,
     "metadata": {},
     "output_type": "execute_result"
    }
   ],
   "source": [
    "y.shape"
   ]
  },
  {
   "cell_type": "code",
   "execution_count": 62,
   "metadata": {},
   "outputs": [
    {
     "data": {
      "text/plain": [
       "7049"
      ]
     },
     "execution_count": 62,
     "metadata": {},
     "output_type": "execute_result"
    }
   ],
   "source": [
    "len(train_data)"
   ]
  },
  {
   "cell_type": "code",
   "execution_count": 66,
   "metadata": {},
   "outputs": [],
   "source": [
    "X = image_list"
   ]
  },
  {
   "cell_type": "code",
   "execution_count": 67,
   "metadata": {},
   "outputs": [
    {
     "data": {
      "text/plain": [
       "((7049, 96, 96, 1), (7049, 30))"
      ]
     },
     "execution_count": 67,
     "metadata": {},
     "output_type": "execute_result"
    }
   ],
   "source": [
    "X.shape,y.shape"
   ]
  },
  {
   "cell_type": "code",
   "execution_count": 127,
   "metadata": {},
   "outputs": [],
   "source": [
    "from keras.models import Model, Sequential\n",
    "from keras.layers import BatchNormalization,Conv2D,Dense,Dropout,Activation,Flatten\n",
    "from keras.optimizers import Adam, RMSprop"
   ]
  },
  {
   "cell_type": "code",
   "execution_count": 75,
   "metadata": {},
   "outputs": [],
   "source": [
    "x1 = X.reshape(7049,-1)\n",
    "y1 = y\n",
    "\n",
    "model = Sequential()\n",
    "model.add(Dense(128,input_dim = x1.shape[1],activation='relu'))\n",
    "model.add(Dense(64,activation='relu'))\n",
    "model.add(Dense(30))\n",
    "\n",
    "model.compile(loss='MSE',optimizer=Adam(lr=0.001))"
   ]
  },
  {
   "cell_type": "code",
   "execution_count": 76,
   "metadata": {
    "scrolled": true
   },
   "outputs": [
    {
     "name": "stdout",
     "output_type": "stream",
     "text": [
      "Train on 5639 samples, validate on 1410 samples\n",
      "Epoch 1/100\n",
      "5639/5639 [==============================] - 4s 637us/step - loss: 4262.4767 - val_loss: 922.9904\n",
      "Epoch 2/100\n",
      "5639/5639 [==============================] - 3s 592us/step - loss: 445.3900 - val_loss: 196.2187\n",
      "Epoch 3/100\n",
      "5639/5639 [==============================] - 3s 618us/step - loss: 176.1842 - val_loss: 413.7167\n",
      "Epoch 4/100\n",
      "5639/5639 [==============================] - 3s 614us/step - loss: 195.8453 - val_loss: 177.0738\n",
      "Epoch 5/100\n",
      "5639/5639 [==============================] - 3s 610us/step - loss: 153.0698 - val_loss: 205.2222\n",
      "Epoch 6/100\n",
      "5639/5639 [==============================] - 4s 635us/step - loss: 162.3429 - val_loss: 178.1743\n",
      "Epoch 7/100\n",
      "5639/5639 [==============================] - 3s 617us/step - loss: 148.3042 - val_loss: 133.9175\n",
      "Epoch 8/100\n",
      "5639/5639 [==============================] - 4s 658us/step - loss: 140.2713 - val_loss: 154.8774\n",
      "Epoch 9/100\n",
      "5639/5639 [==============================] - 3s 608us/step - loss: 137.4603 - val_loss: 122.0444\n",
      "Epoch 10/100\n",
      "5639/5639 [==============================] - 3s 607us/step - loss: 131.9759 - val_loss: 246.2865\n",
      "Epoch 11/100\n",
      "5639/5639 [==============================] - 3s 607us/step - loss: 132.5195 - val_loss: 205.8703\n",
      "Epoch 12/100\n",
      "5639/5639 [==============================] - 3s 615us/step - loss: 125.3304 - val_loss: 181.9878\n",
      "Epoch 13/100\n",
      "5639/5639 [==============================] - 3s 612us/step - loss: 122.0940 - val_loss: 128.8742\n",
      "Epoch 14/100\n",
      "5639/5639 [==============================] - 3s 615us/step - loss: 113.5687 - val_loss: 162.8111\n",
      "Epoch 15/100\n",
      "5639/5639 [==============================] - 3s 600us/step - loss: 123.5873 - val_loss: 173.8802\n",
      "Epoch 16/100\n",
      "5639/5639 [==============================] - 3s 608us/step - loss: 132.6809 - val_loss: 125.5507\n",
      "Epoch 17/100\n",
      "5639/5639 [==============================] - 3s 606us/step - loss: 118.1794 - val_loss: 161.4607\n",
      "Epoch 18/100\n",
      "5639/5639 [==============================] - 3s 615us/step - loss: 111.6800 - val_loss: 124.1415\n",
      "Epoch 19/100\n",
      "5639/5639 [==============================] - 3s 605us/step - loss: 110.8948 - val_loss: 131.5407\n",
      "Epoch 20/100\n",
      "5639/5639 [==============================] - 3s 613us/step - loss: 101.8219 - val_loss: 158.5824\n",
      "Epoch 21/100\n",
      "5639/5639 [==============================] - 3s 618us/step - loss: 108.9810 - val_loss: 115.1512\n",
      "Epoch 22/100\n",
      "5639/5639 [==============================] - 3s 620us/step - loss: 104.7973 - val_loss: 159.7737\n",
      "Epoch 23/100\n",
      "5639/5639 [==============================] - 3s 617us/step - loss: 105.5084 - val_loss: 124.9937\n",
      "Epoch 24/100\n",
      "5639/5639 [==============================] - 4s 636us/step - loss: 103.5253 - val_loss: 134.8755\n",
      "Epoch 25/100\n",
      "5639/5639 [==============================] - 3s 620us/step - loss: 111.4579 - val_loss: 116.2855\n",
      "Epoch 26/100\n",
      "5639/5639 [==============================] - 4s 649us/step - loss: 98.7264 - val_loss: 144.0371\n",
      "Epoch 27/100\n",
      "5639/5639 [==============================] - 4s 621us/step - loss: 101.8497 - val_loss: 149.3350\n",
      "Epoch 28/100\n",
      "5639/5639 [==============================] - 4s 621us/step - loss: 105.3873 - val_loss: 107.6218\n",
      "Epoch 29/100\n",
      "5639/5639 [==============================] - 4s 633us/step - loss: 102.9488 - val_loss: 124.3539\n",
      "Epoch 30/100\n",
      "5639/5639 [==============================] - 3s 617us/step - loss: 97.1356 - val_loss: 107.2258\n",
      "Epoch 31/100\n",
      "5639/5639 [==============================] - 3s 620us/step - loss: 91.6061 - val_loss: 138.9505\n",
      "Epoch 32/100\n",
      "5639/5639 [==============================] - 4s 631us/step - loss: 94.8630 - val_loss: 147.3476\n",
      "Epoch 33/100\n",
      "5639/5639 [==============================] - 4s 632us/step - loss: 96.7944 - val_loss: 100.1858\n",
      "Epoch 34/100\n",
      "5639/5639 [==============================] - 4s 624us/step - loss: 95.5898 - val_loss: 115.7131\n",
      "Epoch 35/100\n",
      "5639/5639 [==============================] - 4s 630us/step - loss: 87.3661 - val_loss: 114.6717\n",
      "Epoch 36/100\n",
      "5639/5639 [==============================] - 4s 622us/step - loss: 91.8125 - val_loss: 100.2071\n",
      "Epoch 37/100\n",
      "5639/5639 [==============================] - 4s 622us/step - loss: 90.0296 - val_loss: 100.3503\n",
      "Epoch 38/100\n",
      "5639/5639 [==============================] - 4s 627us/step - loss: 87.5133 - val_loss: 119.4617\n",
      "Epoch 39/100\n",
      "5639/5639 [==============================] - 4s 631us/step - loss: 87.9355 - val_loss: 97.9936\n",
      "Epoch 40/100\n",
      "5639/5639 [==============================] - 4s 624us/step - loss: 87.0321 - val_loss: 130.0154\n",
      "Epoch 41/100\n",
      "5639/5639 [==============================] - 3s 615us/step - loss: 86.9600 - val_loss: 98.4673\n",
      "Epoch 42/100\n",
      "5639/5639 [==============================] - 3s 620us/step - loss: 92.0375 - val_loss: 103.0302\n",
      "Epoch 43/100\n",
      "5639/5639 [==============================] - 3s 618us/step - loss: 81.7096 - val_loss: 103.4214\n",
      "Epoch 44/100\n",
      "5639/5639 [==============================] - 3s 615us/step - loss: 84.0427 - val_loss: 98.0756\n",
      "Epoch 45/100\n",
      "5639/5639 [==============================] - 3s 617us/step - loss: 84.9623 - val_loss: 93.6902\n",
      "Epoch 46/100\n",
      "5639/5639 [==============================] - 3s 610us/step - loss: 76.4952 - val_loss: 92.4317\n",
      "Epoch 47/100\n",
      "5639/5639 [==============================] - 3s 618us/step - loss: 79.0578 - val_loss: 99.3314\n",
      "Epoch 48/100\n",
      "5639/5639 [==============================] - 4s 624us/step - loss: 79.2735 - val_loss: 115.8782\n",
      "Epoch 49/100\n",
      "5639/5639 [==============================] - 3s 617us/step - loss: 85.9300 - val_loss: 99.1972\n",
      "Epoch 50/100\n",
      "5639/5639 [==============================] - 3s 620us/step - loss: 78.4197 - val_loss: 95.3174\n",
      "Epoch 51/100\n",
      "5639/5639 [==============================] - 3s 608us/step - loss: 75.2326 - val_loss: 90.5960\n",
      "Epoch 52/100\n",
      "5639/5639 [==============================] - 3s 613us/step - loss: 78.4596 - val_loss: 95.6442\n",
      "Epoch 53/100\n",
      "5639/5639 [==============================] - 3s 611us/step - loss: 74.3206 - val_loss: 98.5111\n",
      "Epoch 54/100\n",
      "5639/5639 [==============================] - 3s 616us/step - loss: 78.8631 - val_loss: 101.2969\n",
      "Epoch 55/100\n",
      "5639/5639 [==============================] - 3s 609us/step - loss: 79.3470 - val_loss: 91.4653\n",
      "Epoch 56/100\n",
      "5639/5639 [==============================] - 3s 607us/step - loss: 78.7746 - val_loss: 107.3631\n",
      "Epoch 57/100\n",
      "5639/5639 [==============================] - 3s 616us/step - loss: 75.0160 - val_loss: 95.4259\n",
      "Epoch 58/100\n",
      "5639/5639 [==============================] - 3s 613us/step - loss: 73.6136 - val_loss: 89.6247\n",
      "Epoch 59/100\n",
      "5639/5639 [==============================] - 4s 622us/step - loss: 70.6907 - val_loss: 87.5959\n",
      "Epoch 60/100\n",
      "5639/5639 [==============================] - 3s 620us/step - loss: 72.2823 - val_loss: 95.3332\n",
      "Epoch 61/100\n",
      "5639/5639 [==============================] - 3s 621us/step - loss: 69.2258 - val_loss: 99.2603\n",
      "Epoch 62/100\n",
      "5639/5639 [==============================] - 3s 616us/step - loss: 70.2628 - val_loss: 89.3411\n",
      "Epoch 63/100\n",
      "5639/5639 [==============================] - 3s 613us/step - loss: 65.9146 - val_loss: 99.3931\n",
      "Epoch 64/100\n",
      "5639/5639 [==============================] - 3s 608us/step - loss: 71.1440 - val_loss: 105.3463\n",
      "Epoch 65/100\n",
      "5639/5639 [==============================] - 3s 617us/step - loss: 72.4987 - val_loss: 114.7773\n",
      "Epoch 66/100\n",
      "5639/5639 [==============================] - 3s 619us/step - loss: 74.8747 - val_loss: 111.1848\n",
      "Epoch 67/100\n",
      "5639/5639 [==============================] - 3s 617us/step - loss: 69.4880 - val_loss: 86.8341\n",
      "Epoch 68/100\n",
      "5639/5639 [==============================] - 3s 610us/step - loss: 70.2391 - val_loss: 87.6546\n",
      "Epoch 69/100\n",
      "5639/5639 [==============================] - 3s 615us/step - loss: 72.0634 - val_loss: 96.3946\n",
      "Epoch 70/100\n",
      "5639/5639 [==============================] - 4s 622us/step - loss: 70.8402 - val_loss: 86.0560\n",
      "Epoch 71/100\n",
      "5639/5639 [==============================] - 3s 612us/step - loss: 66.3601 - val_loss: 101.9299\n",
      "Epoch 72/100\n",
      "5639/5639 [==============================] - 3s 613us/step - loss: 65.7195 - val_loss: 88.3620\n",
      "Epoch 73/100\n",
      "5639/5639 [==============================] - 3s 610us/step - loss: 60.9065 - val_loss: 82.3593\n",
      "Epoch 74/100\n",
      "5639/5639 [==============================] - 3s 613us/step - loss: 62.9942 - val_loss: 142.1269\n",
      "Epoch 75/100\n",
      "5639/5639 [==============================] - 3s 611us/step - loss: 68.2332 - val_loss: 90.3078\n"
     ]
    },
    {
     "name": "stdout",
     "output_type": "stream",
     "text": [
      "Epoch 76/100\n",
      "5639/5639 [==============================] - 3s 599us/step - loss: 66.0499 - val_loss: 87.6569\n",
      "Epoch 77/100\n",
      "5639/5639 [==============================] - 3s 588us/step - loss: 65.7301 - val_loss: 83.9742\n",
      "Epoch 78/100\n",
      "5639/5639 [==============================] - 3s 588us/step - loss: 60.3709 - val_loss: 87.4285\n",
      "Epoch 79/100\n",
      "5639/5639 [==============================] - 3s 586us/step - loss: 64.8918 - val_loss: 104.8871\n",
      "Epoch 80/100\n",
      "5639/5639 [==============================] - 3s 586us/step - loss: 65.3507 - val_loss: 86.8134\n",
      "Epoch 81/100\n",
      "5639/5639 [==============================] - 3s 592us/step - loss: 72.2549 - val_loss: 84.0162\n",
      "Epoch 82/100\n",
      "5639/5639 [==============================] - 3s 585us/step - loss: 59.8060 - val_loss: 81.7970\n",
      "Epoch 83/100\n",
      "5639/5639 [==============================] - 3s 600us/step - loss: 59.6604 - val_loss: 85.3791\n",
      "Epoch 84/100\n",
      "5639/5639 [==============================] - 3s 597us/step - loss: 63.4108 - val_loss: 97.4590\n",
      "Epoch 85/100\n",
      "5639/5639 [==============================] - 3s 610us/step - loss: 62.6767 - val_loss: 82.2245\n",
      "Epoch 86/100\n",
      "5639/5639 [==============================] - 3s 608us/step - loss: 60.1406 - val_loss: 85.9927\n",
      "Epoch 87/100\n",
      "5639/5639 [==============================] - 3s 613us/step - loss: 58.3530 - val_loss: 89.4469\n",
      "Epoch 88/100\n",
      "5639/5639 [==============================] - 3s 608us/step - loss: 59.3716 - val_loss: 82.0396\n",
      "Epoch 89/100\n",
      "5639/5639 [==============================] - 3s 614us/step - loss: 59.7624 - val_loss: 82.0539\n",
      "Epoch 90/100\n",
      "5639/5639 [==============================] - 3s 610us/step - loss: 55.9227 - val_loss: 81.0922\n",
      "Epoch 91/100\n",
      "5639/5639 [==============================] - 3s 605us/step - loss: 58.1113 - val_loss: 82.8958\n",
      "Epoch 92/100\n",
      "5639/5639 [==============================] - 3s 604us/step - loss: 54.5083 - val_loss: 81.0797\n",
      "Epoch 93/100\n",
      "5639/5639 [==============================] - 3s 601us/step - loss: 56.9151 - val_loss: 81.4458\n",
      "Epoch 94/100\n",
      "5639/5639 [==============================] - 3s 601us/step - loss: 55.3969 - val_loss: 82.5452\n",
      "Epoch 95/100\n",
      "5639/5639 [==============================] - 3s 598us/step - loss: 58.2043 - val_loss: 114.8023\n",
      "Epoch 96/100\n",
      "5639/5639 [==============================] - 3s 593us/step - loss: 55.5777 - val_loss: 81.8472\n",
      "Epoch 97/100\n",
      "5639/5639 [==============================] - 3s 594us/step - loss: 56.7493 - val_loss: 92.0501\n",
      "Epoch 98/100\n",
      "5639/5639 [==============================] - 3s 594us/step - loss: 56.0534 - val_loss: 80.4614\n",
      "Epoch 99/100\n",
      "5639/5639 [==============================] - 3s 596us/step - loss: 57.1078 - val_loss: 82.4876\n",
      "Epoch 100/100\n",
      "5639/5639 [==============================] - 3s 616us/step - loss: 54.0612 - val_loss: 91.7857\n"
     ]
    }
   ],
   "source": [
    "hist = model.fit(x1,y,epochs=100,validation_split=0.2)"
   ]
  },
  {
   "cell_type": "code",
   "execution_count": 82,
   "metadata": {},
   "outputs": [
    {
     "data": {
      "text/plain": [
       "<matplotlib.legend.Legend at 0x7fd555ccdf28>"
      ]
     },
     "execution_count": 82,
     "metadata": {},
     "output_type": "execute_result"
    },
    {
     "data": {
      "image/png": "[encoded data removed]",
      "text/plain": [
       "<Figure size 432x288 with 1 Axes>"
      ]
     },
     "metadata": {
      "needs_background": "light"
     },
     "output_type": "display_data"
    }
   ],
   "source": [
    "plt.plot(hist.history['val_loss'],label='val_loss')\n",
    "\n",
    "plt.plot(hist.history['loss'],label='loss')\n",
    "plt.legend()\n",
    "\n"
   ]
  },
  {
   "cell_type": "code",
   "execution_count": 85,
   "metadata": {},
   "outputs": [],
   "source": [
    "test_img = []\n",
    "for i in range(len(test_data)):\n",
    "    img = test_data['Image'].iloc[i].split(' ')\n",
    "    img = ['0' if i=='' else i for i in img]\n",
    "    test_img.append(img)\n",
    "test_img = np.array(test_img,dtype = 'float')"
   ]
  },
  {
   "cell_type": "code",
   "execution_count": 147,
   "metadata": {},
   "outputs": [
    {
     "data": {
      "text/plain": [
       "(1783, 9216)"
      ]
     },
     "execution_count": 147,
     "metadata": {},
     "output_type": "execute_result"
    }
   ],
   "source": [
    "test_img.shape"
   ]
  },
  {
   "cell_type": "code",
   "execution_count": 87,
   "metadata": {},
   "outputs": [],
   "source": [
    "test_res = model.predict(test_img)"
   ]
  },
  {
   "cell_type": "code",
   "execution_count": 88,
   "metadata": {},
   "outputs": [
    {
     "data": {
      "text/plain": [
       "(1783, 30)"
      ]
     },
     "execution_count": 88,
     "metadata": {},
     "output_type": "execute_result"
    }
   ],
   "source": [
    "test_res.shape"
   ]
  },
  {
   "cell_type": "code",
   "execution_count": 89,
   "metadata": {},
   "outputs": [
    {
     "name": "stdout",
     "output_type": "stream",
     "text": [
      "1783/1783 [==============================] - 0s 127us/step\n"
     ]
    }
   ],
   "source": [
    "score = model.evaluate(test_img,test_res)"
   ]
  },
  {
   "cell_type": "code",
   "execution_count": 90,
   "metadata": {},
   "outputs": [
    {
     "data": {
      "text/plain": [
       "0.0"
      ]
     },
     "execution_count": 90,
     "metadata": {},
     "output_type": "execute_result"
    }
   ],
   "source": [
    "score"
   ]
  },
  {
   "cell_type": "code",
   "execution_count": 93,
   "metadata": {},
   "outputs": [],
   "source": [
    "submission = pd.read_csv('SampleSubmission.csv')"
   ]
  },
  {
   "cell_type": "code",
   "execution_count": 97,
   "metadata": {
    "scrolled": true
   },
   "outputs": [
    {
     "data": {
      "text/plain": [
       "(1783, 30)"
      ]
     },
     "execution_count": 97,
     "metadata": {},
     "output_type": "execute_result"
    }
   ],
   "source": [
    "test_res.shape"
   ]
  },
  {
   "cell_type": "code",
   "execution_count": 99,
   "metadata": {
    "scrolled": true
   },
   "outputs": [
    {
     "data": {
      "text/html": [
       "<div>\n",
       "<style scoped>\n",
       "    .dataframe tbody tr th:only-of-type {\n",
       "        vertical-align: middle;\n",
       "    }\n",
       "\n",
       "    .dataframe tbody tr th {\n",
       "        vertical-align: top;\n",
       "    }\n",
       "\n",
       "    .dataframe thead th {\n",
       "        text-align: right;\n",
       "    }\n",
       "</style>\n",
       "<table border=\"1\" class=\"dataframe\">\n",
       "  <thead>\n",
       "    <tr style=\"text-align: right;\">\n",
       "      <th></th>\n",
       "      <th>ImageId</th>\n",
       "      <th>Image</th>\n",
       "    </tr>\n",
       "  </thead>\n",
       "  <tbody>\n",
       "    <tr>\n",
       "      <th>0</th>\n",
       "      <td>1</td>\n",
       "      <td>182 183 182 182 180 180 176 169 156 137 124 10...</td>\n",
       "    </tr>\n",
       "    <tr>\n",
       "      <th>1</th>\n",
       "      <td>2</td>\n",
       "      <td>76 87 81 72 65 59 64 76 69 42 31 38 49 58 58 4...</td>\n",
       "    </tr>\n",
       "    <tr>\n",
       "      <th>2</th>\n",
       "      <td>3</td>\n",
       "      <td>177 176 174 170 169 169 168 166 166 166 161 14...</td>\n",
       "    </tr>\n",
       "    <tr>\n",
       "      <th>3</th>\n",
       "      <td>4</td>\n",
       "      <td>176 174 174 175 174 174 176 176 175 171 165 15...</td>\n",
       "    </tr>\n",
       "    <tr>\n",
       "      <th>4</th>\n",
       "      <td>5</td>\n",
       "      <td>50 47 44 101 144 149 120 58 48 42 35 35 37 39 ...</td>\n",
       "    </tr>\n",
       "    <tr>\n",
       "      <th>...</th>\n",
       "      <td>...</td>\n",
       "      <td>...</td>\n",
       "    </tr>\n",
       "    <tr>\n",
       "      <th>1778</th>\n",
       "      <td>1779</td>\n",
       "      <td>101 101 101 100 100 97 97 98 102 149 214 206 1...</td>\n",
       "    </tr>\n",
       "    <tr>\n",
       "      <th>1779</th>\n",
       "      <td>1780</td>\n",
       "      <td>201 191 171 158 145 140 136 130 123 115 108 10...</td>\n",
       "    </tr>\n",
       "    <tr>\n",
       "      <th>1780</th>\n",
       "      <td>1781</td>\n",
       "      <td>28 28 29 30 31 32 33 34 39 44 46 46 49 54 61 7...</td>\n",
       "    </tr>\n",
       "    <tr>\n",
       "      <th>1781</th>\n",
       "      <td>1782</td>\n",
       "      <td>104 95 71 57 46 52 65 70 70 67 76 72 69 69 72 ...</td>\n",
       "    </tr>\n",
       "    <tr>\n",
       "      <th>1782</th>\n",
       "      <td>1783</td>\n",
       "      <td>63 61 64 66 66 64 65 70 69 70 77 83 63 34 22 2...</td>\n",
       "    </tr>\n",
       "  </tbody>\n",
       "</table>\n",
       "<p>1783 rows × 2 columns</p>\n",
       "</div>"
      ],
      "text/plain": [
       "      ImageId                                              Image\n",
       "0           1  182 183 182 182 180 180 176 169 156 137 124 10...\n",
       "1           2  76 87 81 72 65 59 64 76 69 42 31 38 49 58 58 4...\n",
       "2           3  177 176 174 170 169 169 168 166 166 166 161 14...\n",
       "3           4  176 174 174 175 174 174 176 176 175 171 165 15...\n",
       "4           5  50 47 44 101 144 149 120 58 48 42 35 35 37 39 ...\n",
       "...       ...                                                ...\n",
       "1778     1779  101 101 101 100 100 97 97 98 102 149 214 206 1...\n",
       "1779     1780  201 191 171 158 145 140 136 130 123 115 108 10...\n",
       "1780     1781  28 28 29 30 31 32 33 34 39 44 46 46 49 54 61 7...\n",
       "1781     1782  104 95 71 57 46 52 65 70 70 67 76 72 69 69 72 ...\n",
       "1782     1783  63 61 64 66 66 64 65 70 69 70 77 83 63 34 22 2...\n",
       "\n",
       "[1783 rows x 2 columns]"
      ]
     },
     "execution_count": 99,
     "metadata": {},
     "output_type": "execute_result"
    }
   ],
   "source": [
    "test_data"
   ]
  },
  {
   "cell_type": "code",
   "execution_count": 100,
   "metadata": {
    "scrolled": true
   },
   "outputs": [
    {
     "data": {
      "text/plain": [
       "53490"
      ]
     },
     "execution_count": 100,
     "metadata": {},
     "output_type": "execute_result"
    }
   ],
   "source": [
    "1783*30"
   ]
  },
  {
   "cell_type": "code",
   "execution_count": 104,
   "metadata": {},
   "outputs": [],
   "source": [
    "train_predicts = model.predict(x1)"
   ]
  },
  {
   "cell_type": "code",
   "execution_count": 105,
   "metadata": {},
   "outputs": [
    {
     "data": {
      "image/png": "[encoded data removed]",
      "text/plain": [
       "<Figure size 432x288 with 1 Axes>"
      ]
     },
     "metadata": {
      "needs_background": "light"
     },
     "output_type": "display_data"
    }
   ],
   "source": [
    "n = 11\n",
    "\n",
    "xv = x1[n].reshape((96,96))\n",
    "plt.imshow(xv,cmap='gray')\n",
    "\n",
    "for i in range(1,31,2):\n",
    "    plt.plot(train_predicts[n][i-1], train_predicts[n][i], 'ro')\n",
    "    plt.plot(y1[n][i-1], y1[n][i], 'x', color='green')\n",
    "\n",
    "plt.show()"
   ]
  },
  {
   "cell_type": "code",
   "execution_count": 106,
   "metadata": {},
   "outputs": [],
   "source": [
    "test_predicts = pd.DataFrame(test_res,columns=train_data.columns[:-1])"
   ]
  },
  {
   "cell_type": "code",
   "execution_count": 107,
   "metadata": {
    "scrolled": true
   },
   "outputs": [
    {
     "data": {
      "text/plain": [
       "(27124, 4)"
      ]
     },
     "execution_count": 107,
     "metadata": {},
     "output_type": "execute_result"
    }
   ],
   "source": [
    "id_table.shape"
   ]
  },
  {
   "cell_type": "code",
   "execution_count": 108,
   "metadata": {},
   "outputs": [
    {
     "data": {
      "text/html": [
       "<div>\n",
       "<style scoped>\n",
       "    .dataframe tbody tr th:only-of-type {\n",
       "        vertical-align: middle;\n",
       "    }\n",
       "\n",
       "    .dataframe tbody tr th {\n",
       "        vertical-align: top;\n",
       "    }\n",
       "\n",
       "    .dataframe thead th {\n",
       "        text-align: right;\n",
       "    }\n",
       "</style>\n",
       "<table border=\"1\" class=\"dataframe\">\n",
       "  <thead>\n",
       "    <tr style=\"text-align: right;\">\n",
       "      <th></th>\n",
       "      <th>RowId</th>\n",
       "      <th>ImageId</th>\n",
       "      <th>FeatureName</th>\n",
       "      <th>Location</th>\n",
       "    </tr>\n",
       "  </thead>\n",
       "  <tbody>\n",
       "    <tr>\n",
       "      <th>0</th>\n",
       "      <td>1</td>\n",
       "      <td>1</td>\n",
       "      <td>left_eye_center_x</td>\n",
       "      <td>NaN</td>\n",
       "    </tr>\n",
       "    <tr>\n",
       "      <th>1</th>\n",
       "      <td>2</td>\n",
       "      <td>1</td>\n",
       "      <td>left_eye_center_y</td>\n",
       "      <td>NaN</td>\n",
       "    </tr>\n",
       "    <tr>\n",
       "      <th>2</th>\n",
       "      <td>3</td>\n",
       "      <td>1</td>\n",
       "      <td>right_eye_center_x</td>\n",
       "      <td>NaN</td>\n",
       "    </tr>\n",
       "    <tr>\n",
       "      <th>3</th>\n",
       "      <td>4</td>\n",
       "      <td>1</td>\n",
       "      <td>right_eye_center_y</td>\n",
       "      <td>NaN</td>\n",
       "    </tr>\n",
       "    <tr>\n",
       "      <th>4</th>\n",
       "      <td>5</td>\n",
       "      <td>1</td>\n",
       "      <td>left_eye_inner_corner_x</td>\n",
       "      <td>NaN</td>\n",
       "    </tr>\n",
       "  </tbody>\n",
       "</table>\n",
       "</div>"
      ],
      "text/plain": [
       "   RowId  ImageId              FeatureName  Location\n",
       "0      1        1        left_eye_center_x       NaN\n",
       "1      2        1        left_eye_center_y       NaN\n",
       "2      3        1       right_eye_center_x       NaN\n",
       "3      4        1       right_eye_center_y       NaN\n",
       "4      5        1  left_eye_inner_corner_x       NaN"
      ]
     },
     "execution_count": 108,
     "metadata": {},
     "output_type": "execute_result"
    }
   ],
   "source": [
    "id_table.head()"
   ]
  },
  {
   "cell_type": "code",
   "execution_count": 110,
   "metadata": {},
   "outputs": [
    {
     "data": {
      "text/html": [
       "<div>\n",
       "<style scoped>\n",
       "    .dataframe tbody tr th:only-of-type {\n",
       "        vertical-align: middle;\n",
       "    }\n",
       "\n",
       "    .dataframe tbody tr th {\n",
       "        vertical-align: top;\n",
       "    }\n",
       "\n",
       "    .dataframe thead th {\n",
       "        text-align: right;\n",
       "    }\n",
       "</style>\n",
       "<table border=\"1\" class=\"dataframe\">\n",
       "  <thead>\n",
       "    <tr style=\"text-align: right;\">\n",
       "      <th></th>\n",
       "      <th>left_eye_center_x</th>\n",
       "      <th>left_eye_center_y</th>\n",
       "      <th>right_eye_center_x</th>\n",
       "      <th>right_eye_center_y</th>\n",
       "      <th>left_eye_inner_corner_x</th>\n",
       "      <th>left_eye_inner_corner_y</th>\n",
       "      <th>left_eye_outer_corner_x</th>\n",
       "      <th>left_eye_outer_corner_y</th>\n",
       "      <th>right_eye_inner_corner_x</th>\n",
       "      <th>right_eye_inner_corner_y</th>\n",
       "      <th>...</th>\n",
       "      <th>nose_tip_x</th>\n",
       "      <th>nose_tip_y</th>\n",
       "      <th>mouth_left_corner_x</th>\n",
       "      <th>mouth_left_corner_y</th>\n",
       "      <th>mouth_right_corner_x</th>\n",
       "      <th>mouth_right_corner_y</th>\n",
       "      <th>mouth_center_top_lip_x</th>\n",
       "      <th>mouth_center_top_lip_y</th>\n",
       "      <th>mouth_center_bottom_lip_x</th>\n",
       "      <th>mouth_center_bottom_lip_y</th>\n",
       "    </tr>\n",
       "  </thead>\n",
       "  <tbody>\n",
       "    <tr>\n",
       "      <th>0</th>\n",
       "      <td>56.202976</td>\n",
       "      <td>31.680082</td>\n",
       "      <td>24.914478</td>\n",
       "      <td>30.866941</td>\n",
       "      <td>49.842186</td>\n",
       "      <td>31.563168</td>\n",
       "      <td>61.561321</td>\n",
       "      <td>31.769722</td>\n",
       "      <td>30.719683</td>\n",
       "      <td>32.752048</td>\n",
       "      <td>...</td>\n",
       "      <td>40.282631</td>\n",
       "      <td>49.594364</td>\n",
       "      <td>54.707417</td>\n",
       "      <td>63.413143</td>\n",
       "      <td>28.158983</td>\n",
       "      <td>64.034676</td>\n",
       "      <td>41.226261</td>\n",
       "      <td>61.334339</td>\n",
       "      <td>40.403572</td>\n",
       "      <td>69.038521</td>\n",
       "    </tr>\n",
       "    <tr>\n",
       "      <th>1</th>\n",
       "      <td>66.161201</td>\n",
       "      <td>36.849880</td>\n",
       "      <td>28.863947</td>\n",
       "      <td>35.861496</td>\n",
       "      <td>58.623108</td>\n",
       "      <td>36.980011</td>\n",
       "      <td>72.261475</td>\n",
       "      <td>37.303307</td>\n",
       "      <td>35.666512</td>\n",
       "      <td>38.326427</td>\n",
       "      <td>...</td>\n",
       "      <td>47.392159</td>\n",
       "      <td>58.183136</td>\n",
       "      <td>64.018959</td>\n",
       "      <td>74.709587</td>\n",
       "      <td>32.477970</td>\n",
       "      <td>75.664436</td>\n",
       "      <td>47.886269</td>\n",
       "      <td>72.303734</td>\n",
       "      <td>47.364372</td>\n",
       "      <td>81.603348</td>\n",
       "    </tr>\n",
       "    <tr>\n",
       "      <th>2</th>\n",
       "      <td>66.407890</td>\n",
       "      <td>36.978100</td>\n",
       "      <td>28.806646</td>\n",
       "      <td>35.641403</td>\n",
       "      <td>58.912205</td>\n",
       "      <td>37.353729</td>\n",
       "      <td>72.366600</td>\n",
       "      <td>37.813461</td>\n",
       "      <td>35.632118</td>\n",
       "      <td>38.316242</td>\n",
       "      <td>...</td>\n",
       "      <td>47.392651</td>\n",
       "      <td>57.592327</td>\n",
       "      <td>63.148651</td>\n",
       "      <td>75.354103</td>\n",
       "      <td>32.389771</td>\n",
       "      <td>75.862602</td>\n",
       "      <td>47.505688</td>\n",
       "      <td>72.123970</td>\n",
       "      <td>47.201698</td>\n",
       "      <td>82.630722</td>\n",
       "    </tr>\n",
       "    <tr>\n",
       "      <th>3</th>\n",
       "      <td>78.630699</td>\n",
       "      <td>43.179749</td>\n",
       "      <td>34.573242</td>\n",
       "      <td>43.983433</td>\n",
       "      <td>68.736870</td>\n",
       "      <td>41.953091</td>\n",
       "      <td>86.398438</td>\n",
       "      <td>41.994629</td>\n",
       "      <td>42.637177</td>\n",
       "      <td>46.030849</td>\n",
       "      <td>...</td>\n",
       "      <td>56.738209</td>\n",
       "      <td>73.659859</td>\n",
       "      <td>82.486694</td>\n",
       "      <td>86.547119</td>\n",
       "      <td>39.101707</td>\n",
       "      <td>90.155174</td>\n",
       "      <td>59.715961</td>\n",
       "      <td>88.430565</td>\n",
       "      <td>57.779678</td>\n",
       "      <td>92.910507</td>\n",
       "    </tr>\n",
       "    <tr>\n",
       "      <th>4</th>\n",
       "      <td>68.581696</td>\n",
       "      <td>38.200775</td>\n",
       "      <td>29.972639</td>\n",
       "      <td>37.181664</td>\n",
       "      <td>61.102486</td>\n",
       "      <td>38.476082</td>\n",
       "      <td>75.465912</td>\n",
       "      <td>38.717758</td>\n",
       "      <td>37.093792</td>\n",
       "      <td>39.405895</td>\n",
       "      <td>...</td>\n",
       "      <td>49.111946</td>\n",
       "      <td>59.597244</td>\n",
       "      <td>65.616394</td>\n",
       "      <td>78.096931</td>\n",
       "      <td>33.616879</td>\n",
       "      <td>78.591957</td>\n",
       "      <td>49.553497</td>\n",
       "      <td>74.726974</td>\n",
       "      <td>48.885376</td>\n",
       "      <td>85.385452</td>\n",
       "    </tr>\n",
       "  </tbody>\n",
       "</table>\n",
       "<p>5 rows × 30 columns</p>\n",
       "</div>"
      ],
      "text/plain": [
       "   left_eye_center_x  left_eye_center_y  right_eye_center_x  \\\n",
       "0          56.202976          31.680082           24.914478   \n",
       "1          66.161201          36.849880           28.863947   \n",
       "2          66.407890          36.978100           28.806646   \n",
       "3          78.630699          43.179749           34.573242   \n",
       "4          68.581696          38.200775           29.972639   \n",
       "\n",
       "   right_eye_center_y  left_eye_inner_corner_x  left_eye_inner_corner_y  \\\n",
       "0           30.866941                49.842186                31.563168   \n",
       "1           35.861496                58.623108                36.980011   \n",
       "2           35.641403                58.912205                37.353729   \n",
       "3           43.983433                68.736870                41.953091   \n",
       "4           37.181664                61.102486                38.476082   \n",
       "\n",
       "   left_eye_outer_corner_x  left_eye_outer_corner_y  right_eye_inner_corner_x  \\\n",
       "0                61.561321                31.769722                 30.719683   \n",
       "1                72.261475                37.303307                 35.666512   \n",
       "2                72.366600                37.813461                 35.632118   \n",
       "3                86.398438                41.994629                 42.637177   \n",
       "4                75.465912                38.717758                 37.093792   \n",
       "\n",
       "   right_eye_inner_corner_y  ...  nose_tip_x  nose_tip_y  mouth_left_corner_x  \\\n",
       "0                 32.752048  ...   40.282631   49.594364            54.707417   \n",
       "1                 38.326427  ...   47.392159   58.183136            64.018959   \n",
       "2                 38.316242  ...   47.392651   57.592327            63.148651   \n",
       "3                 46.030849  ...   56.738209   73.659859            82.486694   \n",
       "4                 39.405895  ...   49.111946   59.597244            65.616394   \n",
       "\n",
       "   mouth_left_corner_y  mouth_right_corner_x  mouth_right_corner_y  \\\n",
       "0            63.413143             28.158983             64.034676   \n",
       "1            74.709587             32.477970             75.664436   \n",
       "2            75.354103             32.389771             75.862602   \n",
       "3            86.547119             39.101707             90.155174   \n",
       "4            78.096931             33.616879             78.591957   \n",
       "\n",
       "   mouth_center_top_lip_x  mouth_center_top_lip_y  mouth_center_bottom_lip_x  \\\n",
       "0               41.226261               61.334339                  40.403572   \n",
       "1               47.886269               72.303734                  47.364372   \n",
       "2               47.505688               72.123970                  47.201698   \n",
       "3               59.715961               88.430565                  57.779678   \n",
       "4               49.553497               74.726974                  48.885376   \n",
       "\n",
       "   mouth_center_bottom_lip_y  \n",
       "0                  69.038521  \n",
       "1                  81.603348  \n",
       "2                  82.630722  \n",
       "3                  92.910507  \n",
       "4                  85.385452  \n",
       "\n",
       "[5 rows x 30 columns]"
      ]
     },
     "execution_count": 110,
     "metadata": {},
     "output_type": "execute_result"
    }
   ],
   "source": [
    "test_predicts.head()"
   ]
  },
  {
   "cell_type": "code",
   "execution_count": 115,
   "metadata": {
    "scrolled": true
   },
   "outputs": [
    {
     "name": "stderr",
     "output_type": "stream",
     "text": [
      "/opt/anaconda3/envs/corpy/lib/python3.6/site-packages/ipykernel_launcher.py:2: SettingWithCopyWarning: \n",
      "A value is trying to be set on a copy of a slice from a DataFrame\n",
      "\n",
      "See the caveats in the documentation: http://pandas.pydata.org/pandas-docs/stable/user_guide/indexing.html#returning-a-view-versus-a-copy\n",
      "  \n"
     ]
    }
   ],
   "source": [
    "for i in range(id_table.shape[0]):\n",
    "    id_table.Location[i] = test_predicts.loc[id_table.ImageId[i]-1][id_table.FeatureName[i]]"
   ]
  },
  {
   "cell_type": "code",
   "execution_count": 118,
   "metadata": {},
   "outputs": [],
   "source": [
    "submission.Location = id_table.Location"
   ]
  },
  {
   "cell_type": "code",
   "execution_count": 119,
   "metadata": {},
   "outputs": [
    {
     "data": {
      "text/html": [
       "<div>\n",
       "<style scoped>\n",
       "    .dataframe tbody tr th:only-of-type {\n",
       "        vertical-align: middle;\n",
       "    }\n",
       "\n",
       "    .dataframe tbody tr th {\n",
       "        vertical-align: top;\n",
       "    }\n",
       "\n",
       "    .dataframe thead th {\n",
       "        text-align: right;\n",
       "    }\n",
       "</style>\n",
       "<table border=\"1\" class=\"dataframe\">\n",
       "  <thead>\n",
       "    <tr style=\"text-align: right;\">\n",
       "      <th></th>\n",
       "      <th>RowId</th>\n",
       "      <th>Location</th>\n",
       "    </tr>\n",
       "  </thead>\n",
       "  <tbody>\n",
       "    <tr>\n",
       "      <th>0</th>\n",
       "      <td>1</td>\n",
       "      <td>56.202976</td>\n",
       "    </tr>\n",
       "    <tr>\n",
       "      <th>1</th>\n",
       "      <td>2</td>\n",
       "      <td>31.680082</td>\n",
       "    </tr>\n",
       "    <tr>\n",
       "      <th>2</th>\n",
       "      <td>3</td>\n",
       "      <td>24.914478</td>\n",
       "    </tr>\n",
       "    <tr>\n",
       "      <th>3</th>\n",
       "      <td>4</td>\n",
       "      <td>30.866941</td>\n",
       "    </tr>\n",
       "    <tr>\n",
       "      <th>4</th>\n",
       "      <td>5</td>\n",
       "      <td>49.842186</td>\n",
       "    </tr>\n",
       "    <tr>\n",
       "      <th>...</th>\n",
       "      <td>...</td>\n",
       "      <td>...</td>\n",
       "    </tr>\n",
       "    <tr>\n",
       "      <th>27119</th>\n",
       "      <td>27120</td>\n",
       "      <td>33.301533</td>\n",
       "    </tr>\n",
       "    <tr>\n",
       "      <th>27120</th>\n",
       "      <td>27121</td>\n",
       "      <td>43.565804</td>\n",
       "    </tr>\n",
       "    <tr>\n",
       "      <th>27121</th>\n",
       "      <td>27122</td>\n",
       "      <td>55.113930</td>\n",
       "    </tr>\n",
       "    <tr>\n",
       "      <th>27122</th>\n",
       "      <td>27123</td>\n",
       "      <td>43.893341</td>\n",
       "    </tr>\n",
       "    <tr>\n",
       "      <th>27123</th>\n",
       "      <td>27124</td>\n",
       "      <td>70.278114</td>\n",
       "    </tr>\n",
       "  </tbody>\n",
       "</table>\n",
       "<p>27124 rows × 2 columns</p>\n",
       "</div>"
      ],
      "text/plain": [
       "       RowId   Location\n",
       "0          1  56.202976\n",
       "1          2  31.680082\n",
       "2          3  24.914478\n",
       "3          4  30.866941\n",
       "4          5  49.842186\n",
       "...      ...        ...\n",
       "27119  27120  33.301533\n",
       "27120  27121  43.565804\n",
       "27121  27122  55.113930\n",
       "27122  27123  43.893341\n",
       "27123  27124  70.278114\n",
       "\n",
       "[27124 rows x 2 columns]"
      ]
     },
     "execution_count": 119,
     "metadata": {},
     "output_type": "execute_result"
    }
   ],
   "source": [
    "submission"
   ]
  },
  {
   "cell_type": "code",
   "execution_count": 122,
   "metadata": {},
   "outputs": [],
   "source": [
    "submission.to_csv('Dense_sub.csv',index=False)"
   ]
  },
  {
   "cell_type": "code",
   "execution_count": 123,
   "metadata": {
    "collapsed": true
   },
   "outputs": [
    {
     "data": {
      "text/html": [
       "<div>\n",
       "<style scoped>\n",
       "    .dataframe tbody tr th:only-of-type {\n",
       "        vertical-align: middle;\n",
       "    }\n",
       "\n",
       "    .dataframe tbody tr th {\n",
       "        vertical-align: top;\n",
       "    }\n",
       "\n",
       "    .dataframe thead th {\n",
       "        text-align: right;\n",
       "    }\n",
       "</style>\n",
       "<table border=\"1\" class=\"dataframe\">\n",
       "  <thead>\n",
       "    <tr style=\"text-align: right;\">\n",
       "      <th></th>\n",
       "      <th>RowId</th>\n",
       "      <th>Location</th>\n",
       "    </tr>\n",
       "  </thead>\n",
       "  <tbody>\n",
       "    <tr>\n",
       "      <th>0</th>\n",
       "      <td>1</td>\n",
       "      <td>56.202976</td>\n",
       "    </tr>\n",
       "    <tr>\n",
       "      <th>1</th>\n",
       "      <td>2</td>\n",
       "      <td>31.680082</td>\n",
       "    </tr>\n",
       "    <tr>\n",
       "      <th>2</th>\n",
       "      <td>3</td>\n",
       "      <td>24.914478</td>\n",
       "    </tr>\n",
       "    <tr>\n",
       "      <th>3</th>\n",
       "      <td>4</td>\n",
       "      <td>30.866941</td>\n",
       "    </tr>\n",
       "    <tr>\n",
       "      <th>4</th>\n",
       "      <td>5</td>\n",
       "      <td>49.842186</td>\n",
       "    </tr>\n",
       "    <tr>\n",
       "      <th>...</th>\n",
       "      <td>...</td>\n",
       "      <td>...</td>\n",
       "    </tr>\n",
       "    <tr>\n",
       "      <th>27119</th>\n",
       "      <td>27120</td>\n",
       "      <td>33.301533</td>\n",
       "    </tr>\n",
       "    <tr>\n",
       "      <th>27120</th>\n",
       "      <td>27121</td>\n",
       "      <td>43.565804</td>\n",
       "    </tr>\n",
       "    <tr>\n",
       "      <th>27121</th>\n",
       "      <td>27122</td>\n",
       "      <td>55.113930</td>\n",
       "    </tr>\n",
       "    <tr>\n",
       "      <th>27122</th>\n",
       "      <td>27123</td>\n",
       "      <td>43.893341</td>\n",
       "    </tr>\n",
       "    <tr>\n",
       "      <th>27123</th>\n",
       "      <td>27124</td>\n",
       "      <td>70.278114</td>\n",
       "    </tr>\n",
       "  </tbody>\n",
       "</table>\n",
       "<p>27124 rows × 2 columns</p>\n",
       "</div>"
      ],
      "text/plain": [
       "       RowId   Location\n",
       "0          1  56.202976\n",
       "1          2  31.680082\n",
       "2          3  24.914478\n",
       "3          4  30.866941\n",
       "4          5  49.842186\n",
       "...      ...        ...\n",
       "27119  27120  33.301533\n",
       "27120  27121  43.565804\n",
       "27121  27122  55.113930\n",
       "27122  27123  43.893341\n",
       "27123  27124  70.278114\n",
       "\n",
       "[27124 rows x 2 columns]"
      ]
     },
     "execution_count": 123,
     "metadata": {},
     "output_type": "execute_result"
    }
   ],
   "source": [
    "submission"
   ]
  },
  {
   "cell_type": "code",
   "execution_count": 132,
   "metadata": {},
   "outputs": [],
   "source": [
    "from keras.layers import MaxPooling2D"
   ]
  },
  {
   "cell_type": "code",
   "execution_count": 142,
   "metadata": {},
   "outputs": [],
   "source": [
    "def SimpleCNN(withDropout=False):\n",
    "    '''\n",
    "    WithDropout: If True, then dropout regularlization is added.\n",
    "    This feature is experimented later.\n",
    "    '''\n",
    "    model = Sequential()\n",
    "    model.add(Conv2D(32,(3, 3), input_shape = (96, 96, 1)))\n",
    "    model.add(Activation('relu')) ## 96 - 3 + 2\n",
    "    model.add(MaxPooling2D(pool_size = (2,2))) ## 96 - (3-1)*2\n",
    "    if withDropout:\n",
    "        model.add(Dropout(0.1))\n",
    "        \n",
    "    model.add(Conv2D(64,(2,2)))\n",
    "    model.add(Activation('relu')) ## \n",
    "    model.add(MaxPooling2D(pool_size = (2,2)))\n",
    "    if withDropout:\n",
    "        model.add(Dropout(0.1))\n",
    "    \n",
    "    model.add(Conv2D(128,(2,2)))\n",
    "    model.add(Activation('relu'))\n",
    "    model.add(MaxPooling2D(pool_size=(2,2)))\n",
    "    if withDropout:\n",
    "        model.add(Dropout(0.1))\n",
    "        \n",
    "    model.add(Flatten())\n",
    "    \n",
    "    model.add(Dense(256))\n",
    "    model.add(Activation('relu'))\n",
    "    if withDropout:\n",
    "        model.add(Dropout(0.1))\n",
    "        \n",
    "    model.add(Dense(128))\n",
    "    model.add(Activation('relu'))\n",
    "    if withDropout:\n",
    "        model.add(Dropout(0.1))\n",
    "        \n",
    "    model.add(Dense(30))\n",
    "    \n",
    "    model.compile(loss=\"mean_squared_error\",optimizer=Adam(lr=0.01))\n",
    "    return model"
   ]
  },
  {
   "cell_type": "code",
   "execution_count": 143,
   "metadata": {},
   "outputs": [],
   "source": [
    "model2 = SimpleCNN(False)"
   ]
  },
  {
   "cell_type": "code",
   "execution_count": 144,
   "metadata": {},
   "outputs": [
    {
     "data": {
      "text/plain": [
       "(7049, 31)"
      ]
     },
     "execution_count": 144,
     "metadata": {},
     "output_type": "execute_result"
    }
   ],
   "source": [
    "train_data.shape"
   ]
  },
  {
   "cell_type": "code",
   "execution_count": 146,
   "metadata": {},
   "outputs": [
    {
     "name": "stdout",
     "output_type": "stream",
     "text": [
      "Epoch 1/10\n",
      "7049/7049 [==============================] - 65s 9ms/step - loss: 113.2252\n",
      "Epoch 2/10\n",
      "7049/7049 [==============================] - 84s 12ms/step - loss: 15.5873\n",
      "Epoch 3/10\n",
      "7049/7049 [==============================] - 72s 10ms/step - loss: 9.7722\n",
      "Epoch 4/10\n",
      "7049/7049 [==============================] - 84s 12ms/step - loss: 9.5294\n",
      "Epoch 5/10\n",
      "7049/7049 [==============================] - 67s 10ms/step - loss: 9.5626\n",
      "Epoch 6/10\n",
      "7049/7049 [==============================] - 67s 9ms/step - loss: 9.4579\n",
      "Epoch 7/10\n",
      "7049/7049 [==============================] - 67s 9ms/step - loss: 9.4759\n",
      "Epoch 8/10\n",
      "7049/7049 [==============================] - 67s 10ms/step - loss: 10.1659\n",
      "Epoch 9/10\n",
      "7049/7049 [==============================] - 67s 9ms/step - loss: 9.7799\n",
      "Epoch 10/10\n",
      "7049/7049 [==============================] - 67s 9ms/step - loss: 9.4570\n"
     ]
    }
   ],
   "source": [
    "hist2 = model2.fit(X,y,epochs=10,validation_freq=0.2)"
   ]
  },
  {
   "cell_type": "code",
   "execution_count": 148,
   "metadata": {},
   "outputs": [],
   "source": [
    "res = model2.predict(test_img.reshape(-1,96,96,1))"
   ]
  },
  {
   "cell_type": "code",
   "execution_count": 149,
   "metadata": {},
   "outputs": [
    {
     "data": {
      "image/png": "[encoded data removed]",
      "text/plain": [
       "<Figure size 432x288 with 1 Axes>"
      ]
     },
     "metadata": {
      "needs_background": "light"
     },
     "output_type": "display_data"
    }
   ],
   "source": [
    "n = 11\n",
    "\n",
    "xv = x1[n].reshape((96,96))\n",
    "plt.imshow(xv,cmap='gray')\n",
    "\n",
    "for i in range(1,31,2):\n",
    "    plt.plot(res[n][i-1], res[n][i], 'ro')\n",
    "    plt.plot(y1[n][i-1], y1[n][i], 'x', color='green')\n",
    "\n",
    "plt.show()"
   ]
  },
  {
   "cell_type": "code",
   "execution_count": null,
   "metadata": {},
   "outputs": [],
   "source": []
  }
 ],
 "metadata": {
  "kernelspec": {
   "display_name": "Python 3",
   "language": "python",
   "name": "python3"
  },
  "language_info": {
   "codemirror_mode": {
    "name": "ipython",
    "version": 3
   },
   "file_extension": ".py",
   "mimetype": "text/x-python",
   "name": "python",
   "nbconvert_exporter": "python",
   "pygments_lexer": "ipython3",
   "version": "3.6.9"
  }
 },
 "nbformat": 4,
 "nbformat_minor": 2
}
