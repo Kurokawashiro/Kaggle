{
 "cells": [
  {
   "cell_type": "code",
   "execution_count": 2,
   "metadata": {},
   "outputs": [],
   "source": [
    "import cv2\n",
    "import csv"
   ]
  },
  {
   "cell_type": "code",
   "execution_count": 9,
   "metadata": {},
   "outputs": [
    {
     "name": "stdout",
     "output_type": "stream",
     "text": [
      "[None, None, None, None, None]\n",
      "Reading 0: w=3.0 - submission_85212thtestwithlargerdata.csv\n",
      "Reading 1: w=1.0 - submission_8395MobileNetV2.csv\n",
      "Reading 2: w=1.0 - submission_8269Densenet.csv\n",
      "Reading 3: w=1.0 - submission_8490MobileV1FLmax.csv\n",
      "Reading 4: w=1.0 - submission_8337MobileNetV2FL.csv\n"
     ]
    }
   ],
   "source": [
    "sub_files = ['submission_85212thtestwithlargerdata.csv',\n",
    "             'submission_8395MobileNetV2.csv',            \n",
    "            'submission_8269Densenet.csv',\n",
    "             'submission_8490MobileV1FLmax.csv',\n",
    "           #  'submission_2019.csv',#InceptionResNetV2\n",
    "             'submission_8337MobileNetV2FL.csv'\n",
    "            ] \n",
    "# sub_files = ['submission_85212thtestwithlargerdata.csv','submission_8395MobileNetV2.csv',            \n",
    "            \n",
    "#             ]  2112\n",
    "# sub_files = ['submission_8395MobileNetV2.csv',            \n",
    "#             'submission_8269Densenet.csv'\n",
    "#            ]  2113\n",
    "# sub_files = ['submission_85212thtestwithlargerdata.csv',           \n",
    "#             'submission_8269Densenet.csv'\n",
    "#             ]  2114\n",
    "\n",
    "sub_weight = [3.,1.,1.,1.,1.] ## Weights of the individual subs ##\n",
    "\n",
    "Hlabel = 'key_id' \n",
    "Htarget = 'word'\n",
    "npt = 3 # number of places in target\n",
    "\n",
    "place_weights = {}\n",
    "for i in range(npt):\n",
    "    place_weights[i] = 1/(i+1)\n",
    "\n",
    "lg = len(sub_files)\n",
    "sub = [None]*lg\n",
    "print(sub)\n",
    "for i, file in enumerate( sub_files ):\n",
    "    ## input files ##\n",
    "    print(\"Reading {}: w={} - {}\". format(i, sub_weight[i], file))\n",
    "    reader = csv.DictReader(open(file,\"r\"))\n",
    "    sub[i] = sorted(reader, key=lambda d: float(d[Hlabel]))\n",
    "\n",
    "## output file ##\n",
    "out = open(\"sub_1654.csv\", \"w\", newline='')\n",
    "writer = csv.writer(out)\n",
    "writer.writerow([Hlabel,Htarget])\n",
    "\n",
    "for p, row in enumerate(sub[0]):\n",
    "    target_weight = {}\n",
    "    for s in range(lg):\n",
    "        row1 = sub[s][p]\n",
    "        for ind, trgt in enumerate(row1[Htarget].split(' ')):\n",
    "            target_weight[trgt] = target_weight.get(trgt,0) + (place_weights[ind]*sub_weight[s])\n",
    "    tops_trgt = sorted(target_weight, key=target_weight.get, reverse=True)[:npt]\n",
    "    writer.writerow([row1[Hlabel], \" \".join(tops_trgt)])\n",
    "out.close()"
   ]
  },
  {
   "cell_type": "code",
   "execution_count": null,
   "metadata": {},
   "outputs": [],
   "source": []
  }
 ],
 "metadata": {
  "kernelspec": {
   "display_name": "Python 3",
   "language": "python",
   "name": "python3"
  },
  "language_info": {
   "codemirror_mode": {
    "name": "ipython",
    "version": 3
   },
   "file_extension": ".py",
   "mimetype": "text/x-python",
   "name": "python",
   "nbconvert_exporter": "python",
   "pygments_lexer": "ipython3",
   "version": "3.6.7"
  }
 },
 "nbformat": 4,
 "nbformat_minor": 2
}
