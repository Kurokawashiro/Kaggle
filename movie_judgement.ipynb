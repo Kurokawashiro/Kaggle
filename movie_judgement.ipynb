{
 "cells": [
  {
   "cell_type": "code",
   "execution_count": 1,
   "metadata": {
    "scrolled": true
   },
   "outputs": [
    {
     "name": "stderr",
     "output_type": "stream",
     "text": [
      "D:\\Anaconda\\envs\\py3\\lib\\site-packages\\h5py\\__init__.py:36: FutureWarning: Conversion of the second argument of issubdtype from `float` to `np.floating` is deprecated. In future, it will be treated as `np.float64 == np.dtype(float).type`.\n",
      "  from ._conv import register_converters as _register_converters\n",
      "Using TensorFlow backend.\n"
     ]
    }
   ],
   "source": [
    "import keras\n",
    "import tensorflow as tf\n",
    "import pandas as pd\n",
    "import matplotlib.pyplot as plt\n",
    "import numpy as np"
   ]
  },
  {
   "cell_type": "code",
   "execution_count": 2,
   "metadata": {},
   "outputs": [
    {
     "name": "stdout",
     "output_type": "stream",
     "text": [
      "1.12.0\n"
     ]
    }
   ],
   "source": [
    "print(tf.__version__)"
   ]
  },
  {
   "cell_type": "code",
   "execution_count": 3,
   "metadata": {},
   "outputs": [],
   "source": [
    "imdb = keras.datasets.imdb\n",
    "(train_data,train_labels),(test_data,test_labels) = imdb.load_data(num_words=10000)"
   ]
  },
  {
   "cell_type": "code",
   "execution_count": 4,
   "metadata": {},
   "outputs": [
    {
     "name": "stdout",
     "output_type": "stream",
     "text": [
      "lenth of train data and labels:25000&25000\n"
     ]
    }
   ],
   "source": [
    "print(\"lenth of train data and labels:{}&{}\".format(len(train_data),len(train_labels)))"
   ]
  },
  {
   "cell_type": "code",
   "execution_count": 5,
   "metadata": {},
   "outputs": [
    {
     "data": {
      "text/plain": [
       "218"
      ]
     },
     "execution_count": 5,
     "metadata": {},
     "output_type": "execute_result"
    }
   ],
   "source": [
    "len(train_data[0])"
   ]
  },
  {
   "cell_type": "code",
   "execution_count": 6,
   "metadata": {},
   "outputs": [
    {
     "data": {
      "text/plain": [
       "1"
      ]
     },
     "execution_count": 6,
     "metadata": {},
     "output_type": "execute_result"
    }
   ],
   "source": [
    "train_labels[0]"
   ]
  },
  {
   "cell_type": "code",
   "execution_count": 7,
   "metadata": {},
   "outputs": [],
   "source": [
    "word_index = imdb.get_word_index()\n",
    "\n",
    "word_index = {k:(v+3) for k,v in word_index.items()} \n",
    "word_index[\"<PAD>\"] = 0\n",
    "word_index[\"<START>\"] = 1\n",
    "word_index[\"<UNK>\"] = 2  # unknown\n",
    "word_index[\"<UNUSED>\"] = 3\n",
    "\n",
    "reverse_word_index = {k:v for v,k in word_index.items()}"
   ]
  },
  {
   "cell_type": "code",
   "execution_count": 8,
   "metadata": {},
   "outputs": [],
   "source": [
    "def decode(li):\n",
    "    return ' '.join(reverse_word_index.get(i,'?') for i in li)"
   ]
  },
  {
   "cell_type": "code",
   "execution_count": 9,
   "metadata": {},
   "outputs": [],
   "source": [
    "a=decode(train_data[0])"
   ]
  },
  {
   "cell_type": "code",
   "execution_count": 10,
   "metadata": {},
   "outputs": [
    {
     "data": {
      "text/plain": [
       "\"<START> this film was just brilliant casting location scenery story direction everyone's really suited the part they played and you could just imagine being there robert <UNK> is an amazing actor and now the same being director <UNK> father came from the same scottish island as myself so i loved the fact there was a real connection with this film the witty remarks throughout the film were great it was just brilliant so much that i bought the film as soon as it was released for <UNK> and would recommend it to everyone to watch and the fly fishing was amazing really cried at the end it was so sad and you know what they say if you cry at a film it must have been good and this definitely was also <UNK> to the two little boy's that played the <UNK> of norman and paul they were just brilliant children are often left out of the <UNK> list i think because the stars that play them all grown up are such a big profile for the whole film but these children are amazing and should be praised for what they have done don't you think the whole story was so lovely because it was true and was someone's life after all that was shared with us all\""
      ]
     },
     "execution_count": 10,
     "metadata": {},
     "output_type": "execute_result"
    }
   ],
   "source": [
    "a"
   ]
  },
  {
   "cell_type": "code",
   "execution_count": 11,
   "metadata": {},
   "outputs": [],
   "source": [
    "train_data = keras.preprocessing.sequence.pad_sequences(train_data,\n",
    "                                                       padding = 'post',\n",
    "                                                       maxlen = 256)\n",
    "test_data = keras.preprocessing.sequence.pad_sequences(test_data,padding='post',maxlen= 256)"
   ]
  },
  {
   "cell_type": "code",
   "execution_count": 12,
   "metadata": {},
   "outputs": [
    {
     "data": {
      "text/plain": [
       "(256, 256)"
      ]
     },
     "execution_count": 12,
     "metadata": {},
     "output_type": "execute_result"
    }
   ],
   "source": [
    "len(train_data[0]),len(test_data[0])"
   ]
  },
  {
   "cell_type": "code",
   "execution_count": 13,
   "metadata": {
    "scrolled": true
   },
   "outputs": [
    {
     "data": {
      "text/plain": [
       "array([   1,   14,   22,   16,   43,  530,  973, 1622, 1385,   65,  458,\n",
       "       4468,   66, 3941,    4,  173,   36,  256,    5,   25,  100,   43,\n",
       "        838,  112,   50,  670,    2,    9,   35,  480,  284,    5,  150,\n",
       "          4,  172,  112,  167,    2,  336,  385,   39,    4,  172, 4536,\n",
       "       1111,   17,  546,   38,   13,  447,    4,  192,   50,   16,    6,\n",
       "        147, 2025,   19,   14,   22,    4, 1920, 4613,  469,    4,   22,\n",
       "         71,   87,   12,   16,   43,  530,   38,   76,   15,   13, 1247,\n",
       "          4,   22,   17,  515,   17,   12,   16,  626,   18,    2,    5,\n",
       "         62,  386,   12,    8,  316,    8,  106,    5,    4, 2223, 5244,\n",
       "         16,  480,   66, 3785,   33,    4,  130,   12,   16,   38,  619,\n",
       "          5,   25,  124,   51,   36,  135,   48,   25, 1415,   33,    6,\n",
       "         22,   12,  215,   28,   77,   52,    5,   14,  407,   16,   82,\n",
       "          2,    8,    4,  107,  117, 5952,   15,  256,    4,    2,    7,\n",
       "       3766,    5,  723,   36,   71,   43,  530,  476,   26,  400,  317,\n",
       "         46,    7,    4,    2, 1029,   13,  104,   88,    4,  381,   15,\n",
       "        297,   98,   32, 2071,   56,   26,  141,    6,  194, 7486,   18,\n",
       "          4,  226,   22,   21,  134,  476,   26,  480,    5,  144,   30,\n",
       "       5535,   18,   51,   36,   28,  224,   92,   25,  104,    4,  226,\n",
       "         65,   16,   38, 1334,   88,   12,   16,  283,    5,   16, 4472,\n",
       "        113,  103,   32,   15,   16, 5345,   19,  178,   32,    0,    0,\n",
       "          0,    0,    0,    0,    0,    0,    0,    0,    0,    0,    0,\n",
       "          0,    0,    0,    0,    0,    0,    0,    0,    0,    0,    0,\n",
       "          0,    0,    0,    0,    0,    0,    0,    0,    0,    0,    0,\n",
       "          0,    0,    0])"
      ]
     },
     "execution_count": 13,
     "metadata": {},
     "output_type": "execute_result"
    }
   ],
   "source": [
    "train_data[0]"
   ]
  },
  {
   "cell_type": "code",
   "execution_count": 14,
   "metadata": {},
   "outputs": [],
   "source": [
    "from keras import Sequential\n",
    "from keras.layers.embeddings import Embedding\n",
    "from keras.layers import Dense"
   ]
  },
  {
   "cell_type": "code",
   "execution_count": 15,
   "metadata": {
    "scrolled": false
   },
   "outputs": [
    {
     "name": "stdout",
     "output_type": "stream",
     "text": [
      "_________________________________________________________________\n",
      "Layer (type)                 Output Shape              Param #   \n",
      "=================================================================\n",
      "embedding_1 (Embedding)      (None, None, 16)          160000    \n",
      "_________________________________________________________________\n",
      "global_average_pooling1d_1 ( (None, 16)                0         \n",
      "_________________________________________________________________\n",
      "dense_1 (Dense)              (None, 16)                272       \n",
      "_________________________________________________________________\n",
      "dense_2 (Dense)              (None, 1)                 17        \n",
      "=================================================================\n",
      "Total params: 160,289\n",
      "Trainable params: 160,289\n",
      "Non-trainable params: 0\n",
      "_________________________________________________________________\n"
     ]
    }
   ],
   "source": [
    "model1 = Sequential()\n",
    "model1.add(Embedding(10000,16))\n",
    "model1.add(keras.layers.GlobalAveragePooling1D())\n",
    "model1.add(Dense(16,activation='relu'))\n",
    "model1.add(Dense(1,activation='sigmoid'))\n",
    "model1.summary()"
   ]
  },
  {
   "cell_type": "code",
   "execution_count": 16,
   "metadata": {},
   "outputs": [],
   "source": [
    "from keras.layers import Dropout\n",
    "from keras.regularizers import l1,l2"
   ]
  },
  {
   "cell_type": "code",
   "execution_count": 17,
   "metadata": {
    "scrolled": true
   },
   "outputs": [
    {
     "name": "stdout",
     "output_type": "stream",
     "text": [
      "_________________________________________________________________\n",
      "Layer (type)                 Output Shape              Param #   \n",
      "=================================================================\n",
      "embedding_2 (Embedding)      (None, None, 16)          160000    \n",
      "_________________________________________________________________\n",
      "global_average_pooling1d_2 ( (None, 16)                0         \n",
      "_________________________________________________________________\n",
      "dense_3 (Dense)              (None, 16)                272       \n",
      "_________________________________________________________________\n",
      "dense_4 (Dense)              (None, 1)                 17        \n",
      "=================================================================\n",
      "Total params: 160,289\n",
      "Trainable params: 160,289\n",
      "Non-trainable params: 0\n",
      "_________________________________________________________________\n"
     ]
    }
   ],
   "source": [
    "model2 = Sequential()\n",
    "model2.add(Embedding(10000,16))\n",
    "model2.add(keras.layers.GlobalAveragePooling1D())\n",
    "model2.add(Dense(16,kernel_regularizer=l1(0.01),activation='relu'))\n",
    "model2.add(Dense(1,activation='sigmoid'))\n",
    "model2.summary()"
   ]
  },
  {
   "cell_type": "code",
   "execution_count": 18,
   "metadata": {},
   "outputs": [
    {
     "name": "stdout",
     "output_type": "stream",
     "text": [
      "_________________________________________________________________\n",
      "Layer (type)                 Output Shape              Param #   \n",
      "=================================================================\n",
      "embedding_3 (Embedding)      (None, None, 16)          160000    \n",
      "_________________________________________________________________\n",
      "global_average_pooling1d_3 ( (None, 16)                0         \n",
      "_________________________________________________________________\n",
      "dropout_1 (Dropout)          (None, 16)                0         \n",
      "_________________________________________________________________\n",
      "dense_5 (Dense)              (None, 16)                272       \n",
      "_________________________________________________________________\n",
      "dropout_2 (Dropout)          (None, 16)                0         \n",
      "_________________________________________________________________\n",
      "dense_6 (Dense)              (None, 1)                 17        \n",
      "=================================================================\n",
      "Total params: 160,289\n",
      "Trainable params: 160,289\n",
      "Non-trainable params: 0\n",
      "_________________________________________________________________\n"
     ]
    }
   ],
   "source": [
    "model3 = Sequential()\n",
    "model3.add(Embedding(10000,16))\n",
    "model3.add(keras.layers.GlobalAveragePooling1D())\n",
    "model3.add(Dropout(0.5))\n",
    "model3.add(Dense(16,kernel_regularizer=l1(0.01),activation='relu'))\n",
    "model3.add(Dropout(0.5))\n",
    "model3.add(Dense(1,activation='sigmoid'))\n",
    "model3.summary()"
   ]
  },
  {
   "cell_type": "code",
   "execution_count": 19,
   "metadata": {
    "scrolled": false
   },
   "outputs": [],
   "source": [
    "model1.compile(optimizer='adam',loss='binary_crossentropy',metrics =['accuracy'])\n",
    "model2.compile(optimizer='adam',loss='binary_crossentropy',metrics =['accuracy'])\n",
    "model3.compile(optimizer='adam',loss='binary_crossentropy',metrics =['accuracy'])"
   ]
  },
  {
   "cell_type": "code",
   "execution_count": 20,
   "metadata": {},
   "outputs": [],
   "source": [
    "x_val = train_data[:10000]\n",
    "x_train  = train_data[10000:]\n",
    "y_val = train_labels[:10000]\n",
    "y_train  = train_labels[10000:]"
   ]
  },
  {
   "cell_type": "code",
   "execution_count": 21,
   "metadata": {
    "scrolled": true
   },
   "outputs": [
    {
     "name": "stdout",
     "output_type": "stream",
     "text": [
      "Train on 15000 samples, validate on 10000 samples\n",
      "Epoch 1/40\n",
      "15000/15000 [==============================] - 1s 77us/step - loss: 0.6897 - acc: 0.6374 - val_loss: 0.6839 - val_acc: 0.7188\n",
      "Epoch 2/40\n",
      "15000/15000 [==============================] - 1s 57us/step - loss: 0.6694 - acc: 0.7512 - val_loss: 0.6521 - val_acc: 0.7588\n",
      "Epoch 3/40\n",
      "15000/15000 [==============================] - 1s 55us/step - loss: 0.6174 - acc: 0.7901 - val_loss: 0.5870 - val_acc: 0.7972\n",
      "Epoch 4/40\n",
      "15000/15000 [==============================] - 1s 59us/step - loss: 0.5346 - acc: 0.8222 - val_loss: 0.5051 - val_acc: 0.8240\n",
      "Epoch 5/40\n",
      "15000/15000 [==============================] - 1s 64us/step - loss: 0.4478 - acc: 0.8551 - val_loss: 0.4328 - val_acc: 0.8457\n",
      "Epoch 6/40\n",
      "15000/15000 [==============================] - 1s 59us/step - loss: 0.3778 - acc: 0.8745 - val_loss: 0.3821 - val_acc: 0.8578\n",
      "Epoch 7/40\n",
      "15000/15000 [==============================] - 1s 55us/step - loss: 0.3277 - acc: 0.8877 - val_loss: 0.3489 - val_acc: 0.8679\n",
      "Epoch 8/40\n",
      "15000/15000 [==============================] - 1s 62us/step - loss: 0.2916 - acc: 0.8981 - val_loss: 0.3264 - val_acc: 0.8755\n",
      "Epoch 9/40\n",
      "15000/15000 [==============================] - 1s 70us/step - loss: 0.2631 - acc: 0.9076 - val_loss: 0.3128 - val_acc: 0.8775\n",
      "Epoch 10/40\n",
      "15000/15000 [==============================] - 1s 63us/step - loss: 0.2406 - acc: 0.9155 - val_loss: 0.3007 - val_acc: 0.8809\n",
      "Epoch 11/40\n",
      "15000/15000 [==============================] - 1s 63us/step - loss: 0.2212 - acc: 0.9212 - val_loss: 0.2932 - val_acc: 0.8831\n",
      "Epoch 12/40\n",
      "15000/15000 [==============================] - 1s 56us/step - loss: 0.2048 - acc: 0.9290 - val_loss: 0.2887 - val_acc: 0.8850\n",
      "Epoch 13/40\n",
      "15000/15000 [==============================] - 1s 58us/step - loss: 0.1903 - acc: 0.9353 - val_loss: 0.2859 - val_acc: 0.8850\n",
      "Epoch 14/40\n",
      "15000/15000 [==============================] - 1s 55us/step - loss: 0.1772 - acc: 0.9410 - val_loss: 0.2836 - val_acc: 0.8868\n",
      "Epoch 15/40\n",
      "15000/15000 [==============================] - 1s 55us/step - loss: 0.1649 - acc: 0.9463 - val_loss: 0.2831 - val_acc: 0.8865\n",
      "Epoch 16/40\n",
      "15000/15000 [==============================] - 1s 56us/step - loss: 0.1543 - acc: 0.9511 - val_loss: 0.2844 - val_acc: 0.8863\n",
      "Epoch 17/40\n",
      "15000/15000 [==============================] - 1s 56us/step - loss: 0.1444 - acc: 0.9557 - val_loss: 0.2876 - val_acc: 0.8841\n",
      "Epoch 18/40\n",
      "15000/15000 [==============================] - 1s 57us/step - loss: 0.1361 - acc: 0.9579 - val_loss: 0.2872 - val_acc: 0.8867\n",
      "Epoch 19/40\n",
      "15000/15000 [==============================] - 1s 55us/step - loss: 0.1269 - acc: 0.9623 - val_loss: 0.2901 - val_acc: 0.8865\n",
      "Epoch 20/40\n",
      "15000/15000 [==============================] - 1s 57us/step - loss: 0.1194 - acc: 0.9647 - val_loss: 0.2941 - val_acc: 0.8858\n",
      "Epoch 21/40\n",
      "15000/15000 [==============================] - 1s 57us/step - loss: 0.1115 - acc: 0.9679 - val_loss: 0.2988 - val_acc: 0.8844\n",
      "Epoch 22/40\n",
      "15000/15000 [==============================] - 1s 60us/step - loss: 0.1051 - acc: 0.9704 - val_loss: 0.3026 - val_acc: 0.8851\n",
      "Epoch 23/40\n",
      "15000/15000 [==============================] - 1s 60us/step - loss: 0.0981 - acc: 0.9731 - val_loss: 0.3096 - val_acc: 0.8838\n",
      "Epoch 24/40\n",
      "15000/15000 [==============================] - 1s 61us/step - loss: 0.0923 - acc: 0.9749 - val_loss: 0.3150 - val_acc: 0.8832\n",
      "Epoch 25/40\n",
      "15000/15000 [==============================] - 1s 57us/step - loss: 0.0870 - acc: 0.9765 - val_loss: 0.3199 - val_acc: 0.8835\n",
      "Epoch 26/40\n",
      "15000/15000 [==============================] - 1s 58us/step - loss: 0.0824 - acc: 0.9794 - val_loss: 0.3260 - val_acc: 0.8818\n",
      "Epoch 27/40\n",
      "15000/15000 [==============================] - 1s 57us/step - loss: 0.0762 - acc: 0.9813 - val_loss: 0.3329 - val_acc: 0.8813\n",
      "Epoch 28/40\n",
      "15000/15000 [==============================] - 1s 59us/step - loss: 0.0715 - acc: 0.9836 - val_loss: 0.3405 - val_acc: 0.8807\n",
      "Epoch 29/40\n",
      "15000/15000 [==============================] - 1s 58us/step - loss: 0.0670 - acc: 0.9847 - val_loss: 0.3519 - val_acc: 0.8777\n",
      "Epoch 30/40\n",
      "15000/15000 [==============================] - 1s 54us/step - loss: 0.0629 - acc: 0.9863 - val_loss: 0.3563 - val_acc: 0.8778\n",
      "Epoch 31/40\n",
      "15000/15000 [==============================] - 1s 54us/step - loss: 0.0587 - acc: 0.9873 - val_loss: 0.3644 - val_acc: 0.8781\n",
      "Epoch 32/40\n",
      "15000/15000 [==============================] - 1s 56us/step - loss: 0.0549 - acc: 0.9885 - val_loss: 0.3728 - val_acc: 0.8771\n",
      "Epoch 33/40\n",
      "15000/15000 [==============================] - 1s 55us/step - loss: 0.0511 - acc: 0.9897 - val_loss: 0.3814 - val_acc: 0.8768\n",
      "Epoch 34/40\n",
      "15000/15000 [==============================] - 1s 62us/step - loss: 0.0479 - acc: 0.9909 - val_loss: 0.3914 - val_acc: 0.8745\n",
      "Epoch 35/40\n",
      "15000/15000 [==============================] - 1s 56us/step - loss: 0.0448 - acc: 0.9919 - val_loss: 0.3997 - val_acc: 0.8753\n",
      "Epoch 36/40\n",
      "15000/15000 [==============================] - 1s 55us/step - loss: 0.0420 - acc: 0.9928 - val_loss: 0.4122 - val_acc: 0.8718\n",
      "Epoch 37/40\n",
      "15000/15000 [==============================] - 1s 56us/step - loss: 0.0387 - acc: 0.9937 - val_loss: 0.4177 - val_acc: 0.8734\n",
      "Epoch 38/40\n",
      "15000/15000 [==============================] - 1s 61us/step - loss: 0.0361 - acc: 0.9944 - val_loss: 0.4285 - val_acc: 0.8724\n",
      "Epoch 39/40\n",
      "15000/15000 [==============================] - 1s 58us/step - loss: 0.0340 - acc: 0.9945 - val_loss: 0.4374 - val_acc: 0.8714\n",
      "Epoch 40/40\n",
      "15000/15000 [==============================] - 1s 54us/step - loss: 0.0315 - acc: 0.9957 - val_loss: 0.4478 - val_acc: 0.8730\n",
      "Train on 15000 samples, validate on 10000 samples\n",
      "Epoch 1/40\n",
      "15000/15000 [==============================] - 1s 77us/step - loss: 1.1670 - acc: 0.5899 - val_loss: 1.0953 - val_acc: 0.6599\n",
      "Epoch 2/40\n",
      "15000/15000 [==============================] - 1s 55us/step - loss: 1.0351 - acc: 0.7211 - val_loss: 0.9777 - val_acc: 0.7461\n",
      "Epoch 3/40\n",
      "15000/15000 [==============================] - 1s 56us/step - loss: 0.9277 - acc: 0.7523 - val_loss: 0.8802 - val_acc: 0.7325\n",
      "Epoch 4/40\n",
      "15000/15000 [==============================] - 1s 53us/step - loss: 0.8394 - acc: 0.7592 - val_loss: 0.8038 - val_acc: 0.7233\n",
      "Epoch 5/40\n",
      "15000/15000 [==============================] - 1s 57us/step - loss: 0.7739 - acc: 0.7363 - val_loss: 0.7497 - val_acc: 0.6772\n",
      "Epoch 6/40\n",
      "15000/15000 [==============================] - 1s 59us/step - loss: 0.7306 - acc: 0.7295 - val_loss: 0.7170 - val_acc: 0.7486\n",
      "Epoch 7/40\n",
      "15000/15000 [==============================] - 1s 58us/step - loss: 0.7064 - acc: 0.6654 - val_loss: 0.7005 - val_acc: 0.5633\n",
      "Epoch 8/40\n",
      "15000/15000 [==============================] - 1s 54us/step - loss: 0.6970 - acc: 0.6451 - val_loss: 0.6954 - val_acc: 0.6820\n",
      "Epoch 9/40\n",
      "15000/15000 [==============================] - 1s 57us/step - loss: 0.6941 - acc: 0.6113 - val_loss: 0.6939 - val_acc: 0.6689\n",
      "Epoch 10/40\n",
      "15000/15000 [==============================] - 1s 55us/step - loss: 0.6928 - acc: 0.7265 - val_loss: 0.6931 - val_acc: 0.5799\n",
      "Epoch 11/40\n",
      "15000/15000 [==============================] - 1s 54us/step - loss: 0.6912 - acc: 0.6633 - val_loss: 0.6909 - val_acc: 0.7381\n",
      "Epoch 12/40\n",
      "15000/15000 [==============================] - 1s 54us/step - loss: 0.6874 - acc: 0.7144 - val_loss: 0.6862 - val_acc: 0.7310\n",
      "Epoch 13/40\n",
      "15000/15000 [==============================] - 1s 54us/step - loss: 0.6786 - acc: 0.7505 - val_loss: 0.6749 - val_acc: 0.7441\n",
      "Epoch 14/40\n",
      "15000/15000 [==============================] - 1s 55us/step - loss: 0.6613 - acc: 0.7711 - val_loss: 0.6557 - val_acc: 0.7605\n",
      "Epoch 15/40\n",
      "15000/15000 [==============================] - 1s 57us/step - loss: 0.6350 - acc: 0.7839 - val_loss: 0.6294 - val_acc: 0.7784\n",
      "Epoch 16/40\n",
      "15000/15000 [==============================] - 1s 56us/step - loss: 0.6031 - acc: 0.7997 - val_loss: 0.6008 - val_acc: 0.7905\n",
      "Epoch 17/40\n",
      "15000/15000 [==============================] - 1s 56us/step - loss: 0.5702 - acc: 0.8150 - val_loss: 0.5735 - val_acc: 0.8050\n",
      "Epoch 18/40\n",
      "15000/15000 [==============================] - 1s 56us/step - loss: 0.5405 - acc: 0.8315 - val_loss: 0.5488 - val_acc: 0.8183\n",
      "Epoch 19/40\n",
      "15000/15000 [==============================] - 1s 54us/step - loss: 0.5140 - acc: 0.8460 - val_loss: 0.5282 - val_acc: 0.8303\n"
     ]
    },
    {
     "name": "stdout",
     "output_type": "stream",
     "text": [
      "Epoch 20/40\n",
      "15000/15000 [==============================] - 1s 57us/step - loss: 0.4922 - acc: 0.8583 - val_loss: 0.5111 - val_acc: 0.8401\n",
      "Epoch 21/40\n",
      "15000/15000 [==============================] - 1s 54us/step - loss: 0.4744 - acc: 0.8673 - val_loss: 0.4975 - val_acc: 0.8476\n",
      "Epoch 22/40\n",
      "15000/15000 [==============================] - 1s 54us/step - loss: 0.4589 - acc: 0.8740 - val_loss: 0.4864 - val_acc: 0.8513\n",
      "Epoch 23/40\n",
      "15000/15000 [==============================] - 1s 51us/step - loss: 0.4463 - acc: 0.8809 - val_loss: 0.4773 - val_acc: 0.8566\n",
      "Epoch 24/40\n",
      "15000/15000 [==============================] - 1s 55us/step - loss: 0.4357 - acc: 0.8849 - val_loss: 0.4698 - val_acc: 0.8605\n",
      "Epoch 25/40\n",
      "15000/15000 [==============================] - 1s 60us/step - loss: 0.4262 - acc: 0.8883 - val_loss: 0.4637 - val_acc: 0.8611\n",
      "Epoch 26/40\n",
      "15000/15000 [==============================] - 1s 60us/step - loss: 0.4180 - acc: 0.8925 - val_loss: 0.4580 - val_acc: 0.8649\n",
      "Epoch 27/40\n",
      "15000/15000 [==============================] - 1s 56us/step - loss: 0.4107 - acc: 0.8951 - val_loss: 0.4525 - val_acc: 0.8666\n",
      "Epoch 28/40\n",
      "15000/15000 [==============================] - 1s 55us/step - loss: 0.4035 - acc: 0.8981 - val_loss: 0.4478 - val_acc: 0.8697\n",
      "Epoch 29/40\n",
      "15000/15000 [==============================] - 1s 56us/step - loss: 0.3970 - acc: 0.8998 - val_loss: 0.4435 - val_acc: 0.8716\n",
      "Epoch 30/40\n",
      "15000/15000 [==============================] - 1s 54us/step - loss: 0.3910 - acc: 0.9023 - val_loss: 0.4397 - val_acc: 0.8724\n",
      "Epoch 31/40\n",
      "15000/15000 [==============================] - 1s 67us/step - loss: 0.3853 - acc: 0.9051 - val_loss: 0.4359 - val_acc: 0.8744\n",
      "Epoch 32/40\n",
      "15000/15000 [==============================] - 1s 61us/step - loss: 0.3799 - acc: 0.9057 - val_loss: 0.4323 - val_acc: 0.8759\n",
      "Epoch 33/40\n",
      "15000/15000 [==============================] - 1s 56us/step - loss: 0.3746 - acc: 0.9083 - val_loss: 0.4291 - val_acc: 0.8766\n",
      "Epoch 34/40\n",
      "15000/15000 [==============================] - 1s 54us/step - loss: 0.3698 - acc: 0.9094 - val_loss: 0.4267 - val_acc: 0.8767\n",
      "Epoch 35/40\n",
      "15000/15000 [==============================] - 1s 55us/step - loss: 0.3652 - acc: 0.9110 - val_loss: 0.4238 - val_acc: 0.8772\n",
      "Epoch 36/40\n",
      "15000/15000 [==============================] - 1s 60us/step - loss: 0.3607 - acc: 0.9130 - val_loss: 0.4220 - val_acc: 0.8775\n",
      "Epoch 37/40\n",
      "15000/15000 [==============================] - 1s 63us/step - loss: 0.3562 - acc: 0.9151 - val_loss: 0.4180 - val_acc: 0.8793\n",
      "Epoch 38/40\n",
      "15000/15000 [==============================] - 1s 60us/step - loss: 0.3520 - acc: 0.9157 - val_loss: 0.4154 - val_acc: 0.8799\n",
      "Epoch 39/40\n",
      "15000/15000 [==============================] - 1s 62us/step - loss: 0.3478 - acc: 0.9177 - val_loss: 0.4130 - val_acc: 0.8804\n",
      "Epoch 40/40\n",
      "15000/15000 [==============================] - 1s 65us/step - loss: 0.3441 - acc: 0.9189 - val_loss: 0.4110 - val_acc: 0.8807\n",
      "Train on 15000 samples, validate on 10000 samples\n",
      "Epoch 1/40\n",
      " - 1s - loss: 1.2075 - acc: 0.5296 - val_loss: 1.1351 - val_acc: 0.5457\n",
      "Epoch 2/40\n",
      " - 1s - loss: 1.0725 - acc: 0.5842 - val_loss: 1.0114 - val_acc: 0.5527\n",
      "Epoch 3/40\n",
      " - 1s - loss: 0.9587 - acc: 0.6128 - val_loss: 0.9085 - val_acc: 0.7247\n",
      "Epoch 4/40\n",
      " - 1s - loss: 0.8656 - acc: 0.6107 - val_loss: 0.8257 - val_acc: 0.7530\n",
      "Epoch 5/40\n",
      " - 1s - loss: 0.7939 - acc: 0.6167 - val_loss: 0.7646 - val_acc: 0.7516\n",
      "Epoch 6/40\n",
      " - 1s - loss: 0.7414 - acc: 0.5876 - val_loss: 0.7203 - val_acc: 0.7294\n",
      "Epoch 7/40\n",
      " - 1s - loss: 0.7071 - acc: 0.5560 - val_loss: 0.6981 - val_acc: 0.4947\n",
      "Epoch 8/40\n",
      " - 1s - loss: 0.6948 - acc: 0.5159 - val_loss: 0.6936 - val_acc: 0.5889\n",
      "Epoch 9/40\n",
      " - 1s - loss: 0.6940 - acc: 0.4958 - val_loss: 0.6936 - val_acc: 0.4947\n",
      "Epoch 10/40\n",
      " - 1s - loss: 0.6937 - acc: 0.5005 - val_loss: 0.6935 - val_acc: 0.4947\n",
      "Epoch 11/40\n",
      " - 1s - loss: 0.6935 - acc: 0.5040 - val_loss: 0.6934 - val_acc: 0.5053\n",
      "Epoch 12/40\n",
      " - 1s - loss: 0.6936 - acc: 0.5017 - val_loss: 0.6935 - val_acc: 0.4947\n",
      "Epoch 13/40\n",
      " - 1s - loss: 0.6936 - acc: 0.4981 - val_loss: 0.6936 - val_acc: 0.4947\n",
      "Epoch 14/40\n",
      " - 1s - loss: 0.6935 - acc: 0.5010 - val_loss: 0.6935 - val_acc: 0.4947\n",
      "Epoch 15/40\n",
      " - 1s - loss: 0.6935 - acc: 0.5041 - val_loss: 0.6936 - val_acc: 0.4947\n",
      "Epoch 16/40\n",
      " - 1s - loss: 0.6935 - acc: 0.5035 - val_loss: 0.6937 - val_acc: 0.4947\n",
      "Epoch 17/40\n",
      " - 1s - loss: 0.6935 - acc: 0.5035 - val_loss: 0.6935 - val_acc: 0.4947\n",
      "Epoch 18/40\n",
      " - 1s - loss: 0.6934 - acc: 0.5035 - val_loss: 0.6935 - val_acc: 0.4947\n",
      "Epoch 19/40\n",
      " - 1s - loss: 0.6934 - acc: 0.5035 - val_loss: 0.6936 - val_acc: 0.4947\n",
      "Epoch 20/40\n",
      " - 1s - loss: 0.6935 - acc: 0.5035 - val_loss: 0.6936 - val_acc: 0.4947\n",
      "Epoch 21/40\n",
      " - 1s - loss: 0.6935 - acc: 0.5035 - val_loss: 0.6936 - val_acc: 0.4947\n",
      "Epoch 22/40\n",
      " - 1s - loss: 0.6934 - acc: 0.5035 - val_loss: 0.6936 - val_acc: 0.4947\n",
      "Epoch 23/40\n",
      " - 1s - loss: 0.6935 - acc: 0.5035 - val_loss: 0.6935 - val_acc: 0.4947\n",
      "Epoch 24/40\n",
      " - 1s - loss: 0.6934 - acc: 0.5035 - val_loss: 0.6935 - val_acc: 0.4947\n",
      "Epoch 25/40\n",
      " - 1s - loss: 0.6934 - acc: 0.5035 - val_loss: 0.6935 - val_acc: 0.4947\n",
      "Epoch 26/40\n",
      " - 1s - loss: 0.6934 - acc: 0.5035 - val_loss: 0.6936 - val_acc: 0.4947\n",
      "Epoch 27/40\n",
      " - 1s - loss: 0.6934 - acc: 0.5035 - val_loss: 0.6935 - val_acc: 0.4947\n",
      "Epoch 28/40\n",
      " - 1s - loss: 0.6934 - acc: 0.5035 - val_loss: 0.6935 - val_acc: 0.4947\n",
      "Epoch 29/40\n",
      " - 1s - loss: 0.6934 - acc: 0.5035 - val_loss: 0.6935 - val_acc: 0.4947\n",
      "Epoch 30/40\n",
      " - 1s - loss: 0.6934 - acc: 0.5035 - val_loss: 0.6936 - val_acc: 0.4947\n",
      "Epoch 31/40\n",
      " - 1s - loss: 0.6934 - acc: 0.5035 - val_loss: 0.6935 - val_acc: 0.4947\n",
      "Epoch 32/40\n",
      " - 1s - loss: 0.6934 - acc: 0.5035 - val_loss: 0.6936 - val_acc: 0.4947\n",
      "Epoch 33/40\n",
      " - 1s - loss: 0.6934 - acc: 0.5035 - val_loss: 0.6936 - val_acc: 0.4947\n",
      "Epoch 34/40\n",
      " - 1s - loss: 0.6935 - acc: 0.5035 - val_loss: 0.6935 - val_acc: 0.4947\n",
      "Epoch 35/40\n",
      " - 1s - loss: 0.6934 - acc: 0.5035 - val_loss: 0.6936 - val_acc: 0.4947\n",
      "Epoch 36/40\n",
      " - 1s - loss: 0.6934 - acc: 0.5035 - val_loss: 0.6935 - val_acc: 0.4947\n",
      "Epoch 37/40\n",
      " - 1s - loss: 0.6934 - acc: 0.5035 - val_loss: 0.6936 - val_acc: 0.4947\n",
      "Epoch 38/40\n",
      " - 1s - loss: 0.6934 - acc: 0.5035 - val_loss: 0.6936 - val_acc: 0.4947\n",
      "Epoch 39/40\n",
      " - 1s - loss: 0.6934 - acc: 0.5035 - val_loss: 0.6935 - val_acc: 0.4947\n",
      "Epoch 40/40\n",
      " - 1s - loss: 0.6934 - acc: 0.5035 - val_loss: 0.6936 - val_acc: 0.4947\n"
     ]
    }
   ],
   "source": [
    "history1 = model1.fit(x_train,y_train,epochs=40,batch_size=256,validation_data=(x_val,y_val),verbose=1)\n",
    "history2 = model2.fit(x_train,y_train,epochs=40,batch_size=256,validation_data=(x_val,y_val),verbose=1)\n",
    "history3 = model3.fit(x_train,y_train,epochs=40,batch_size=256,validation_data=(x_val,y_val),verbose=2)"
   ]
  },
  {
   "cell_type": "markdown",
   "metadata": {},
   "source": [
    "result = model.evaluate(test_data,test_labels)\n",
    "print(result)"
   ]
  },
  {
   "cell_type": "markdown",
   "metadata": {},
   "source": [
    "history_dict = history.history\n",
    "history_dict.keys()"
   ]
  },
  {
   "cell_type": "code",
   "execution_count": 22,
   "metadata": {},
   "outputs": [],
   "source": [
    "acc1 = history1.history['acc']\n",
    "val_acc1 = history1.history['val_acc']\n",
    "val_loss1  = history1.history['val_loss']\n",
    "loss1 = history1.history['loss']\n",
    "\n",
    "acc2 = history2.history['acc']\n",
    "val_acc2 = history2.history['val_acc']\n",
    "val_loss2  = history2.history['val_loss']\n",
    "loss2 = history2.history['loss']\n",
    "\n",
    "acc3 = history3.history['acc']\n",
    "val_acc3 = history3.history['val_acc']\n",
    "val_loss3  = history3.history['val_loss']\n",
    "loss3 = history3.history['loss']"
   ]
  },
  {
   "cell_type": "code",
   "execution_count": 24,
   "metadata": {},
   "outputs": [],
   "source": [
    "epochs = range(1,len(acc2)+1,1)"
   ]
  },
  {
   "cell_type": "code",
   "execution_count": 27,
   "metadata": {
    "scrolled": true
   },
   "outputs": [
    {
     "data": {
      "image/png": "[encoded data removed]",
      "text/plain": [
       "<Figure size 1440x576 with 1 Axes>"
      ]
     },
     "metadata": {},
     "output_type": "display_data"
    }
   ],
   "source": [
    "plt.figure(figsize=(20,8))\n",
    "plt.plot(epochs, loss1, 'bo', label='Training loss1',color='red')\n",
    "# b is for \"solid blue line\"\n",
    "plt.plot(epochs, val_loss1, 'bo', label='Validation loss1',color='red')\n",
    "\n",
    "plt.plot(epochs, loss2, 'H', label='Training loss2',color='yellow')\n",
    "# b is for \"solid blue line\"\n",
    "plt.plot(epochs, val_loss2, 'H', label='Validation loss2',color='yellow')\n",
    "\n",
    "plt.plot(epochs, loss3, '*', label='Training loss3',color='blue')\n",
    "# b is for \"solid blue line\"\n",
    "plt.plot(epochs, val_loss3, '*', label='Validation loss3',color='blue')\n",
    "\n",
    "plt.legend()\n",
    "plt.show()"
   ]
  },
  {
   "cell_type": "code",
   "execution_count": 30,
   "metadata": {},
   "outputs": [
    {
     "data": {
      "image/png": "[encoded data removed]",
      "text/plain": [
       "<Figure size 720x576 with 1 Axes>"
      ]
     },
     "metadata": {},
     "output_type": "display_data"
    }
   ],
   "source": [
    "plt.figure(figsize=(10,8))\n",
    "plt.plot(epochs, acc1, 'bo', label='Training loss1',color='red')\n",
    "# b is for \"solid blue line\"\n",
    "#plt.plot(epochs, val_acc1, 'bo', label='Validation loss1',color='red')\n",
    "\n",
    "plt.plot(epochs, acc2, 'H', label='Training loss2',color='yellow')\n",
    "# b is for \"solid blue line\"\n",
    "#plt.plot(epochs, val_acc2, 'H', label='Validation loss2',color='yellow')\n",
    "\n",
    "plt.plot(epochs, acc3, '*', label='Training loss3',color='blue')\n",
    "# b is for \"solid blue line\"\n",
    "#plt.plot(epochs, val_acc3, '*', label='Validation loss3',color='blue')\n",
    "\n",
    "plt.legend()\n",
    "plt.show()"
   ]
  },
  {
   "cell_type": "code",
   "execution_count": 77,
   "metadata": {},
   "outputs": [
    {
     "data": {
      "image/png": "[encoded data removed]",
      "text/plain": [
       "<Figure size 432x288 with 1 Axes>"
      ]
     },
     "metadata": {},
     "output_type": "display_data"
    }
   ],
   "source": [
    "\n",
    "plt.title('Training and validation loss')\n",
    "plt.xlabel('Epochs')\n",
    "plt.ylabel('Loss')\n",
    "plt.legend()\n",
    "\n",
    "plt.show()"
   ]
  },
  {
   "cell_type": "code",
   "execution_count": null,
   "metadata": {},
   "outputs": [],
   "source": []
  }
 ],
 "metadata": {
  "kernelspec": {
   "display_name": "py3",
   "language": "python",
   "name": "py3"
  },
  "language_info": {
   "codemirror_mode": {
    "name": "ipython",
    "version": 3
   },
   "file_extension": ".py",
   "mimetype": "text/x-python",
   "name": "python",
   "nbconvert_exporter": "python",
   "pygments_lexer": "ipython3",
   "version": "3.5.5"
  }
 },
 "nbformat": 4,
 "nbformat_minor": 2
}
